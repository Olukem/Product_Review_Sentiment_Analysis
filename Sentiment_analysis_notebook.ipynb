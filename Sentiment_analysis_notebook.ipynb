{
 "cells": [
  {
   "cell_type": "markdown",
   "id": "6f6733cb-b341-41b9-a544-e4a407105a5f",
   "metadata": {},
   "source": [
    "## Project Overview\n",
    "\n",
    "In today's digital age, e-commerce platforms face the challenge of analyzing vast amounts of customer feedback to understand product sentiment accurately. Understanding customer sentiment is crucial for businesses to make informed decisions about product improvements, marketing strategies, and customer satisfaction. However, manually analyzing thousands of product reviews is time-consuming and inefficient. Therefore,there is a need for an automated **sentiment analysis** solution to process and interpret these reviews efficiently."
   ]
  },
  {
   "cell_type": "markdown",
   "id": "b800bbec-ddf5-4f28-9fc7-b52c82841766",
   "metadata": {},
   "source": [
    "## Project Objectives\n",
    "\n",
    "The aim of this project is to develop a robust **sentiment analysis system** for e-commerce product reviews, specifically targeting the **Electronics category** on Amazon. By leveraging Data Science techniques, our objective is to build an end-to-end solution that can extract, preprocess, analyze, and visualize customer sentiment from textual reviews. This solution will provide valuable insights to our business stakeholders, empowering them to make data-driven decisions and enhance the overall customer experience."
   ]
  },
  {
   "cell_type": "markdown",
   "id": "d6091249-adb7-45d8-89d8-908fa3553a0a",
   "metadata": {},
   "source": [
    "#### Import Required Libraries"
   ]
  },
  {
   "cell_type": "code",
   "execution_count": 4,
   "id": "604b1448-482a-43ce-8faa-2208808947f5",
   "metadata": {},
   "outputs": [],
   "source": [
    "# !pip install wordcloud\n",
    "# !pip install missingno\n",
    "# !pip install xgboost\n",
    "# !pip install numpy\n",
    "# !pip install pandas\n",
    "# !pip install scikit-learn"
   ]
  },
  {
   "cell_type": "code",
   "execution_count": 8,
   "id": "baa295c8-c236-4f5a-914a-1aa2e5f66ea6",
   "metadata": {},
   "outputs": [],
   "source": [
    "# Analysis\n",
    "import pandas as pd\n",
    "import numpy as np\n",
    "#from sklearn.pipeline import Pipeline\n",
    "import joblib\n",
    "\n",
    "# Data Visualization Libraries\n",
    "import matplotlib.pyplot as plt\n",
    "import seaborn as sns\n",
    "plt.style.use(\"ggplot\")\n",
    "import seaborn as sns\n",
    "\n",
    "# Encoding Categorical Variables\n",
    "from sklearn.preprocessing import LabelEncoder\n",
    "\n",
    "# Data Pre-Processing\n",
    "from sklearn.impute import SimpleImputer\n",
    "from sklearn.model_selection import train_test_split\n",
    "\n",
    "# Models\n",
    "from sklearn.linear_model import LogisticRegression\n",
    "from xgboost import XGBClassifier\n",
    "from sklearn.ensemble import RandomForestClassifier, AdaBoostClassifier\n",
    "from sklearn.model_selection import GridSearchCV\n",
    "from xgboost import XGBClassifier\n",
    "from sklearn.naive_bayes import MultinomialNB\n",
    "from sklearn.svm import SVC\n",
    "\n",
    "# Evaluation Metrics\n",
    "from sklearn.metrics import accuracy_score, precision_score, recall_score, f1_score, classification_report\n",
    "from sklearn.metrics import confusion_matrix\n",
    "from sklearn.metrics import ConfusionMatrixDisplay\n",
    "from sklearn.model_selection import cross_val_score\n",
    "from sklearn.model_selection import StratifiedKFold\n",
    "\n",
    "# Tokenization and Stop Words\n",
    "import re\n",
    "import nltk\n",
    "from nltk.tokenize import word_tokenize\n",
    "from nltk.corpus import stopwords\n",
    "from nltk.stem import WordNetLemmatizer\n",
    "\n",
    "# Vectorizer\n",
    "from sklearn.feature_extraction.text import TfidfVectorizer\n",
    "from sklearn.feature_extraction.text import CountVectorizer\n",
    "\n",
    "# Sentiment analyzer\n",
    "from nltk.sentiment.vader import SentimentIntensityAnalyzer\n",
    "from wordcloud import WordCloud\n",
    "import pickle\n",
    "\n",
    "import warnings\n",
    "warnings.filterwarnings(\"ignore\")"
   ]
  },
  {
   "cell_type": "code",
   "execution_count": 9,
   "id": "e7a7097a",
   "metadata": {},
   "outputs": [],
   "source": [
    "#!pip list\n"
   ]
  },
  {
   "cell_type": "code",
   "execution_count": 10,
   "id": "b8617527-bd81-4c55-b485-8cb26df9ba24",
   "metadata": {},
   "outputs": [
    {
     "data": {
      "text/html": [
       "<div>\n",
       "<style scoped>\n",
       "    .dataframe tbody tr th:only-of-type {\n",
       "        vertical-align: middle;\n",
       "    }\n",
       "\n",
       "    .dataframe tbody tr th {\n",
       "        vertical-align: top;\n",
       "    }\n",
       "\n",
       "    .dataframe thead th {\n",
       "        text-align: right;\n",
       "    }\n",
       "</style>\n",
       "<table border=\"1\" class=\"dataframe\">\n",
       "  <thead>\n",
       "    <tr style=\"text-align: right;\">\n",
       "      <th></th>\n",
       "      <th>Reviewer</th>\n",
       "      <th>Country</th>\n",
       "      <th>StarRatings</th>\n",
       "      <th>Subject</th>\n",
       "      <th>Review</th>\n",
       "      <th>Date_posted</th>\n",
       "    </tr>\n",
       "  </thead>\n",
       "  <tbody>\n",
       "    <tr>\n",
       "      <th>0</th>\n",
       "      <td>Mike Santarcangelo</td>\n",
       "      <td>US</td>\n",
       "      <td>3</td>\n",
       "      <td>Amazon may be a fine company, but...</td>\n",
       "      <td>Amazon is easy to work with, but they fulfill ...</td>\n",
       "      <td>Tuesday, June 4, 2024</td>\n",
       "    </tr>\n",
       "    <tr>\n",
       "      <th>1</th>\n",
       "      <td>Arthur Riding</td>\n",
       "      <td>GB</td>\n",
       "      <td>5</td>\n",
       "      <td>Great range of products, generally superior qu...</td>\n",
       "      <td>I have been using AliExpress for well over a y...</td>\n",
       "      <td>Tuesday, June 4, 2024</td>\n",
       "    </tr>\n",
       "    <tr>\n",
       "      <th>2</th>\n",
       "      <td>UK shopper Val</td>\n",
       "      <td>GB</td>\n",
       "      <td>5</td>\n",
       "      <td>Good!</td>\n",
       "      <td>A good, customer-centric marketplace. But neve...</td>\n",
       "      <td>Monday, June 3, 2024</td>\n",
       "    </tr>\n",
       "    <tr>\n",
       "      <th>3</th>\n",
       "      <td>Jim Corkery</td>\n",
       "      <td>CA</td>\n",
       "      <td>1</td>\n",
       "      <td>I purchased an Android Tesla style…</td>\n",
       "      <td>I purchased an Android Tesla style radio.\\nAft...</td>\n",
       "      <td>Sunday, June 2, 2024</td>\n",
       "    </tr>\n",
       "    <tr>\n",
       "      <th>4</th>\n",
       "      <td>chris bardin</td>\n",
       "      <td>IE</td>\n",
       "      <td>1</td>\n",
       "      <td>They are an absolute con job dont waste…</td>\n",
       "      <td>They are an absolute con job dont waste your m...</td>\n",
       "      <td>Tuesday, June 4, 2024</td>\n",
       "    </tr>\n",
       "  </tbody>\n",
       "</table>\n",
       "</div>"
      ],
      "text/plain": [
       "             Reviewer Country  StarRatings  \\\n",
       "0  Mike Santarcangelo      US            3   \n",
       "1       Arthur Riding      GB            5   \n",
       "2      UK shopper Val      GB            5   \n",
       "3         Jim Corkery      CA            1   \n",
       "4        chris bardin      IE            1   \n",
       "\n",
       "                                             Subject  \\\n",
       "0               Amazon may be a fine company, but...   \n",
       "1  Great range of products, generally superior qu...   \n",
       "2                                              Good!   \n",
       "3                I purchased an Android Tesla style…   \n",
       "4           They are an absolute con job dont waste…   \n",
       "\n",
       "                                              Review            Date_posted  \n",
       "0  Amazon is easy to work with, but they fulfill ...  Tuesday, June 4, 2024  \n",
       "1  I have been using AliExpress for well over a y...  Tuesday, June 4, 2024  \n",
       "2  A good, customer-centric marketplace. But neve...   Monday, June 3, 2024  \n",
       "3  I purchased an Android Tesla style radio.\\nAft...   Sunday, June 2, 2024  \n",
       "4  They are an absolute con job dont waste your m...  Tuesday, June 4, 2024  "
      ]
     },
     "execution_count": 10,
     "metadata": {},
     "output_type": "execute_result"
    }
   ],
   "source": [
    "# Load the dataset\n",
    "data = pd.read_csv(r\"C:\\Users\\ooluw\\Desktop\\10nalytics\\Team Brainiac dataset.csv\")\n",
    "                  \n",
    "data.head()"
   ]
  },
  {
   "cell_type": "markdown",
   "id": "8079eda5-5074-48bb-87aa-d7fb70421e0c",
   "metadata": {},
   "source": [
    "### Data Inspection and Cleaning"
   ]
  },
  {
   "cell_type": "code",
   "execution_count": 12,
   "id": "10ae685e-b7e5-47af-8b6e-cc926cf62aec",
   "metadata": {},
   "outputs": [
    {
     "data": {
      "text/plain": [
       "(12000, 6)"
      ]
     },
     "execution_count": 12,
     "metadata": {},
     "output_type": "execute_result"
    }
   ],
   "source": [
    "data.shape"
   ]
  },
  {
   "cell_type": "markdown",
   "id": "10bfd305-aa21-42e3-9eb6-0b3a38badd0c",
   "metadata": {},
   "source": [
    "The dataset contains 12,000 rows and 6 columns"
   ]
  },
  {
   "cell_type": "code",
   "execution_count": 14,
   "id": "e909e921-f1cc-453f-8f4d-67af7c85735a",
   "metadata": {},
   "outputs": [
    {
     "name": "stdout",
     "output_type": "stream",
     "text": [
      "<class 'pandas.core.frame.DataFrame'>\n",
      "RangeIndex: 12000 entries, 0 to 11999\n",
      "Data columns (total 6 columns):\n",
      " #   Column       Non-Null Count  Dtype \n",
      "---  ------       --------------  ----- \n",
      " 0   Reviewer     11997 non-null  object\n",
      " 1   Country      11997 non-null  object\n",
      " 2   StarRatings  12000 non-null  int64 \n",
      " 3   Subject      12000 non-null  object\n",
      " 4   Review       11161 non-null  object\n",
      " 5   Date_posted  12000 non-null  object\n",
      "dtypes: int64(1), object(5)\n",
      "memory usage: 562.6+ KB\n"
     ]
    }
   ],
   "source": [
    "data.info()"
   ]
  },
  {
   "cell_type": "code",
   "execution_count": 15,
   "id": "25e6e49d-b326-43ba-922d-2ee979d81e19",
   "metadata": {},
   "outputs": [
    {
     "data": {
      "text/plain": [
       "Reviewer       object\n",
       "Country        object\n",
       "StarRatings     int64\n",
       "Subject        object\n",
       "Review         object\n",
       "Date_posted    object\n",
       "dtype: object"
      ]
     },
     "execution_count": 15,
     "metadata": {},
     "output_type": "execute_result"
    }
   ],
   "source": [
    "# Check the data type\n",
    "data.dtypes"
   ]
  },
  {
   "cell_type": "code",
   "execution_count": 16,
   "id": "79dbd2fc-4e92-422e-b2b5-d90c693f9453",
   "metadata": {},
   "outputs": [
    {
     "data": {
      "text/plain": [
       "0"
      ]
     },
     "execution_count": 16,
     "metadata": {},
     "output_type": "execute_result"
    }
   ],
   "source": [
    "# Check for duplicate\n",
    "data.duplicated().sum()"
   ]
  },
  {
   "cell_type": "markdown",
   "id": "3ef0b313-7d30-4929-8736-c50412293756",
   "metadata": {},
   "source": [
    "The dataset has no duplicate"
   ]
  },
  {
   "cell_type": "code",
   "execution_count": null,
   "id": "31bb5196-3ac3-4cbc-aa02-a22b3f5c4d6c",
   "metadata": {},
   "outputs": [],
   "source": []
  },
  {
   "cell_type": "code",
   "execution_count": 18,
   "id": "106ae5f1-e213-4462-bfb9-ea5e49dec98d",
   "metadata": {},
   "outputs": [
    {
     "data": {
      "text/plain": [
       "Reviewer       11065\n",
       "Country          147\n",
       "StarRatings        5\n",
       "Subject        11177\n",
       "Review         11158\n",
       "Date_posted     1372\n",
       "dtype: int64"
      ]
     },
     "execution_count": 18,
     "metadata": {},
     "output_type": "execute_result"
    }
   ],
   "source": [
    "# Check the number unique values in each features\n",
    "data.nunique()"
   ]
  },
  {
   "cell_type": "markdown",
   "id": "ceed4f43-069c-4cca-9084-3417d3a5a3b3",
   "metadata": {},
   "source": [
    "We can notice that there are 147 unique countries where the reviews came from"
   ]
  },
  {
   "cell_type": "code",
   "execution_count": 20,
   "id": "ce29c8be-af4f-42d2-b29e-39795c1cc669",
   "metadata": {
    "scrolled": true
   },
   "outputs": [
    {
     "data": {
      "text/plain": [
       "Reviewer         3\n",
       "Country          3\n",
       "StarRatings      0\n",
       "Subject          0\n",
       "Review         839\n",
       "Date_posted      0\n",
       "dtype: int64"
      ]
     },
     "execution_count": 20,
     "metadata": {},
     "output_type": "execute_result"
    }
   ],
   "source": [
    "# Check for missing values\n",
    "data.isnull().sum()"
   ]
  },
  {
   "cell_type": "markdown",
   "id": "24d5e4e8-f679-4d39-a16b-9c7b38f86498",
   "metadata": {},
   "source": [
    "The dataset contains some missing values, 3 in the 'Reviewer' and 'Country' columns respectively, and 839 in the 'Review' column. However, we will not be dropping the columns"
   ]
  },
  {
   "cell_type": "code",
   "execution_count": 23,
   "id": "f0f9fec0-84a2-4418-803f-b5018034a282",
   "metadata": {},
   "outputs": [
    {
     "data": {
      "image/png": "[encoded data removed]",
      "text/plain": [
       "<Figure size 2500x1000 with 2 Axes>"
      ]
     },
     "metadata": {},
     "output_type": "display_data"
    }
   ],
   "source": [
    " # Visualizing the missing data\n",
    "import missingno as msno\n",
    "\n",
    "# Visualize nullity patterns\n",
    "msno.matrix(data)\n",
    "\n",
    "plt.show()"
   ]
  },
  {
   "cell_type": "markdown",
   "id": "0803997b-0596-46b1-8fea-f6a9a09587c7",
   "metadata": {},
   "source": [
    "We will not be dropping the row of the missing data"
   ]
  },
  {
   "cell_type": "code",
   "execution_count": 25,
   "id": "fe336f6d-ca17-4a90-9589-82b444f6b9b1",
   "metadata": {
    "scrolled": true
   },
   "outputs": [
    {
     "data": {
      "text/plain": [
       "(12000, 6)"
      ]
     },
     "execution_count": 25,
     "metadata": {},
     "output_type": "execute_result"
    }
   ],
   "source": [
    "data.shape"
   ]
  },
  {
   "cell_type": "markdown",
   "id": "c47e236e-08ce-415a-a19e-15c37adadfe8",
   "metadata": {},
   "source": [
    "The final dataset contains 12,000 rows and 6 columns"
   ]
  },
  {
   "cell_type": "markdown",
   "id": "fdd7168a-a676-45f8-b0b8-771ee3fce21d",
   "metadata": {},
   "source": [
    "### Explortatory Data Analysis (EDA)"
   ]
  },
  {
   "cell_type": "code",
   "execution_count": 28,
   "id": "ede28fb3-64e1-488e-baad-c2005fd9c715",
   "metadata": {},
   "outputs": [
    {
     "data": {
      "text/html": [
       "<div>\n",
       "<style scoped>\n",
       "    .dataframe tbody tr th:only-of-type {\n",
       "        vertical-align: middle;\n",
       "    }\n",
       "\n",
       "    .dataframe tbody tr th {\n",
       "        vertical-align: top;\n",
       "    }\n",
       "\n",
       "    .dataframe thead th {\n",
       "        text-align: right;\n",
       "    }\n",
       "</style>\n",
       "<table border=\"1\" class=\"dataframe\">\n",
       "  <thead>\n",
       "    <tr style=\"text-align: right;\">\n",
       "      <th></th>\n",
       "      <th>Reviewer</th>\n",
       "      <th>Country</th>\n",
       "      <th>StarRatings</th>\n",
       "      <th>Subject</th>\n",
       "      <th>Review</th>\n",
       "      <th>Date_posted</th>\n",
       "    </tr>\n",
       "  </thead>\n",
       "  <tbody>\n",
       "    <tr>\n",
       "      <th>0</th>\n",
       "      <td>Mike Santarcangelo</td>\n",
       "      <td>US</td>\n",
       "      <td>3</td>\n",
       "      <td>Amazon may be a fine company, but...</td>\n",
       "      <td>Amazon is easy to work with, but they fulfill ...</td>\n",
       "      <td>Tuesday, June 4, 2024</td>\n",
       "    </tr>\n",
       "    <tr>\n",
       "      <th>1</th>\n",
       "      <td>Arthur Riding</td>\n",
       "      <td>GB</td>\n",
       "      <td>5</td>\n",
       "      <td>Great range of products, generally superior qu...</td>\n",
       "      <td>I have been using AliExpress for well over a y...</td>\n",
       "      <td>Tuesday, June 4, 2024</td>\n",
       "    </tr>\n",
       "    <tr>\n",
       "      <th>2</th>\n",
       "      <td>UK shopper Val</td>\n",
       "      <td>GB</td>\n",
       "      <td>5</td>\n",
       "      <td>Good!</td>\n",
       "      <td>A good, customer-centric marketplace. But neve...</td>\n",
       "      <td>Monday, June 3, 2024</td>\n",
       "    </tr>\n",
       "    <tr>\n",
       "      <th>3</th>\n",
       "      <td>Jim Corkery</td>\n",
       "      <td>CA</td>\n",
       "      <td>1</td>\n",
       "      <td>I purchased an Android Tesla style…</td>\n",
       "      <td>I purchased an Android Tesla style radio.\\nAft...</td>\n",
       "      <td>Sunday, June 2, 2024</td>\n",
       "    </tr>\n",
       "    <tr>\n",
       "      <th>4</th>\n",
       "      <td>chris bardin</td>\n",
       "      <td>IE</td>\n",
       "      <td>1</td>\n",
       "      <td>They are an absolute con job dont waste…</td>\n",
       "      <td>They are an absolute con job dont waste your m...</td>\n",
       "      <td>Tuesday, June 4, 2024</td>\n",
       "    </tr>\n",
       "  </tbody>\n",
       "</table>\n",
       "</div>"
      ],
      "text/plain": [
       "             Reviewer Country  StarRatings  \\\n",
       "0  Mike Santarcangelo      US            3   \n",
       "1       Arthur Riding      GB            5   \n",
       "2      UK shopper Val      GB            5   \n",
       "3         Jim Corkery      CA            1   \n",
       "4        chris bardin      IE            1   \n",
       "\n",
       "                                             Subject  \\\n",
       "0               Amazon may be a fine company, but...   \n",
       "1  Great range of products, generally superior qu...   \n",
       "2                                              Good!   \n",
       "3                I purchased an Android Tesla style…   \n",
       "4           They are an absolute con job dont waste…   \n",
       "\n",
       "                                              Review            Date_posted  \n",
       "0  Amazon is easy to work with, but they fulfill ...  Tuesday, June 4, 2024  \n",
       "1  I have been using AliExpress for well over a y...  Tuesday, June 4, 2024  \n",
       "2  A good, customer-centric marketplace. But neve...   Monday, June 3, 2024  \n",
       "3  I purchased an Android Tesla style radio.\\nAft...   Sunday, June 2, 2024  \n",
       "4  They are an absolute con job dont waste your m...  Tuesday, June 4, 2024  "
      ]
     },
     "execution_count": 28,
     "metadata": {},
     "output_type": "execute_result"
    }
   ],
   "source": [
    "data.head()"
   ]
  },
  {
   "cell_type": "markdown",
   "id": "a2ab839f-3029-4962-a30f-829160c97222",
   "metadata": {},
   "source": [
    "- **Analyzing the 'StarRatings' Column**"
   ]
  },
  {
   "cell_type": "code",
   "execution_count": 30,
   "id": "dd604d5d-fcb5-4f90-83b6-4b0a490ded6f",
   "metadata": {},
   "outputs": [
    {
     "name": "stdout",
     "output_type": "stream",
     "text": [
      "StarRatings Value Count: \n",
      "StarRatings\n",
      "1    6418\n",
      "5    4488\n",
      "2     412\n",
      "4     402\n",
      "3     280\n",
      "Name: count, dtype: int64\n"
     ]
    }
   ],
   "source": [
    "# Distinct values of 'StarRatings'\n",
    "print(f\"StarRatings Value Count: \\n{data['StarRatings'].value_counts()}\")"
   ]
  },
  {
   "cell_type": "code",
   "execution_count": 31,
   "id": "3dab510c-e751-40d4-916a-7228db56e768",
   "metadata": {},
   "outputs": [
    {
     "data": {
      "image/png": "[encoded data removed]",
      "text/plain": [
       "<Figure size 800x600 with 1 Axes>"
      ]
     },
     "metadata": {},
     "output_type": "display_data"
    }
   ],
   "source": [
    "# Plot the distribution of star ratings with different colors\n",
    "plt.figure(figsize=(8, 6))\n",
    "sns.countplot(x='StarRatings', data=data, hue='StarRatings', palette='viridis', dodge=False)\n",
    "plt.legend([], [], frameon=False)  # Remove the legend as it's redundant in this case\n",
    "plt.title('Distribution of Star Ratings')\n",
    "plt.xlabel('Star Rating')\n",
    "plt.ylabel('Count')\n",
    "plt.show()\n"
   ]
  },
  {
   "cell_type": "code",
   "execution_count": 32,
   "id": "80dbd306-0531-41e0-95cb-ab9b3d413bff",
   "metadata": {},
   "outputs": [
    {
     "name": "stdout",
     "output_type": "stream",
     "text": [
      "Rating Value Count - Percentage Distribution: \n",
      "StarRatings\n",
      "1    53.48\n",
      "5    37.40\n",
      "2     3.43\n",
      "4     3.35\n",
      "3     2.33\n",
      "Name: count, dtype: float64\n"
     ]
    }
   ],
   "source": [
    "# Looking at the Percentage distribution of the 'StarRatings' column\n",
    "\n",
    "print(f\"Rating Value Count - Percentage Distribution: \\n{round(data['StarRatings'].value_counts()/data.shape[0]*100,2)}\")"
   ]
  },
  {
   "cell_type": "code",
   "execution_count": 33,
   "id": "fe7d145d-2ea3-4e62-99db-d662d848cdc1",
   "metadata": {},
   "outputs": [
    {
     "data": {
      "image/png": "[encoded data removed]",
      "text/plain": [
       "<Figure size 800x600 with 1 Axes>"
      ]
     },
     "metadata": {},
     "output_type": "display_data"
    }
   ],
   "source": [
    "# Visualizing the Percentage Distribution of 'StarRatings'\n",
    "\n",
    "ratings = ['1 Star', '5 Stars', '2 Stars', '4 Stars', '3 Stars']\n",
    "percentages = [53.48, 37.40, 3.43, 3.35, 2.33]\n",
    "\n",
    "# Create a pie chart\n",
    "plt.figure(figsize=(8, 6))\n",
    "plt.pie(percentages, labels=ratings, autopct='%1.1f%%', colors=plt.get_cmap('tab10').colors)\n",
    "plt.title('Percentage Distribution of Star Ratings')\n",
    "plt.show()"
   ]
  },
  {
   "cell_type": "markdown",
   "id": "e5c6cc56-00db-48fa-b3fd-83fa74f79737",
   "metadata": {},
   "source": [
    "This is an imbalanced data, as can be seen.d sentences."
   ]
  },
  {
   "cell_type": "markdown",
   "id": "10009847-3b46-4154-b2bc-97d8282ee26b",
   "metadata": {},
   "source": [
    "Because of data imbalance we will classify the StarRatings as either positive or negative.\n",
    "\n",
    "Assumptions:\n",
    "- if StarRatings is greater than or equal to 3, we will classify it as 'Positive'\n",
    "- If StarRatings is less than 3, we will classify it as 'Negative'"
   ]
  },
  {
   "cell_type": "code",
   "execution_count": 36,
   "id": "9701aeb2-113e-4949-b94e-014415c8e12a",
   "metadata": {},
   "outputs": [
    {
     "data": {
      "text/html": [
       "<div>\n",
       "<style scoped>\n",
       "    .dataframe tbody tr th:only-of-type {\n",
       "        vertical-align: middle;\n",
       "    }\n",
       "\n",
       "    .dataframe tbody tr th {\n",
       "        vertical-align: top;\n",
       "    }\n",
       "\n",
       "    .dataframe thead th {\n",
       "        text-align: right;\n",
       "    }\n",
       "</style>\n",
       "<table border=\"1\" class=\"dataframe\">\n",
       "  <thead>\n",
       "    <tr style=\"text-align: right;\">\n",
       "      <th></th>\n",
       "      <th>Reviewer</th>\n",
       "      <th>Country</th>\n",
       "      <th>StarRatings</th>\n",
       "      <th>Subject</th>\n",
       "      <th>Review</th>\n",
       "      <th>Date_posted</th>\n",
       "      <th>StarRatings_Sentiment</th>\n",
       "    </tr>\n",
       "  </thead>\n",
       "  <tbody>\n",
       "    <tr>\n",
       "      <th>0</th>\n",
       "      <td>Mike Santarcangelo</td>\n",
       "      <td>US</td>\n",
       "      <td>3</td>\n",
       "      <td>Amazon may be a fine company, but...</td>\n",
       "      <td>Amazon is easy to work with, but they fulfill ...</td>\n",
       "      <td>Tuesday, June 4, 2024</td>\n",
       "      <td>Positive</td>\n",
       "    </tr>\n",
       "    <tr>\n",
       "      <th>1</th>\n",
       "      <td>Arthur Riding</td>\n",
       "      <td>GB</td>\n",
       "      <td>5</td>\n",
       "      <td>Great range of products, generally superior qu...</td>\n",
       "      <td>I have been using AliExpress for well over a y...</td>\n",
       "      <td>Tuesday, June 4, 2024</td>\n",
       "      <td>Positive</td>\n",
       "    </tr>\n",
       "    <tr>\n",
       "      <th>2</th>\n",
       "      <td>UK shopper Val</td>\n",
       "      <td>GB</td>\n",
       "      <td>5</td>\n",
       "      <td>Good!</td>\n",
       "      <td>A good, customer-centric marketplace. But neve...</td>\n",
       "      <td>Monday, June 3, 2024</td>\n",
       "      <td>Positive</td>\n",
       "    </tr>\n",
       "    <tr>\n",
       "      <th>3</th>\n",
       "      <td>Jim Corkery</td>\n",
       "      <td>CA</td>\n",
       "      <td>1</td>\n",
       "      <td>I purchased an Android Tesla style…</td>\n",
       "      <td>I purchased an Android Tesla style radio.\\nAft...</td>\n",
       "      <td>Sunday, June 2, 2024</td>\n",
       "      <td>Negative</td>\n",
       "    </tr>\n",
       "    <tr>\n",
       "      <th>4</th>\n",
       "      <td>chris bardin</td>\n",
       "      <td>IE</td>\n",
       "      <td>1</td>\n",
       "      <td>They are an absolute con job dont waste…</td>\n",
       "      <td>They are an absolute con job dont waste your m...</td>\n",
       "      <td>Tuesday, June 4, 2024</td>\n",
       "      <td>Negative</td>\n",
       "    </tr>\n",
       "  </tbody>\n",
       "</table>\n",
       "</div>"
      ],
      "text/plain": [
       "             Reviewer Country  StarRatings  \\\n",
       "0  Mike Santarcangelo      US            3   \n",
       "1       Arthur Riding      GB            5   \n",
       "2      UK shopper Val      GB            5   \n",
       "3         Jim Corkery      CA            1   \n",
       "4        chris bardin      IE            1   \n",
       "\n",
       "                                             Subject  \\\n",
       "0               Amazon may be a fine company, but...   \n",
       "1  Great range of products, generally superior qu...   \n",
       "2                                              Good!   \n",
       "3                I purchased an Android Tesla style…   \n",
       "4           They are an absolute con job dont waste…   \n",
       "\n",
       "                                              Review            Date_posted  \\\n",
       "0  Amazon is easy to work with, but they fulfill ...  Tuesday, June 4, 2024   \n",
       "1  I have been using AliExpress for well over a y...  Tuesday, June 4, 2024   \n",
       "2  A good, customer-centric marketplace. But neve...   Monday, June 3, 2024   \n",
       "3  I purchased an Android Tesla style radio.\\nAft...   Sunday, June 2, 2024   \n",
       "4  They are an absolute con job dont waste your m...  Tuesday, June 4, 2024   \n",
       "\n",
       "  StarRatings_Sentiment  \n",
       "0              Positive  \n",
       "1              Positive  \n",
       "2              Positive  \n",
       "3              Negative  \n",
       "4              Negative  "
      ]
     },
     "execution_count": 36,
     "metadata": {},
     "output_type": "execute_result"
    }
   ],
   "source": [
    "# Creating a 'StarRatings_Sentiment' column to classify the sentiment of reviews based on the StarRatings\n",
    "\n",
    "# Define the classification function\n",
    "def classify_rating(StarRatings):\n",
    "    if StarRatings >= 3:\n",
    "        return 'Positive'\n",
    "    else:\n",
    "        return 'Negative'\n",
    "\n",
    "# Apply the classification\n",
    "data['StarRatings_Sentiment'] = data['StarRatings'].apply(classify_rating)\n",
    "\n",
    "data.head()"
   ]
  },
  {
   "cell_type": "code",
   "execution_count": 37,
   "id": "748e8603-31bb-40c8-81a0-579bce01a0ca",
   "metadata": {},
   "outputs": [
    {
     "name": "stdout",
     "output_type": "stream",
     "text": [
      "StarRatings_Sentiment\n",
      "Negative    6830\n",
      "Positive    5170\n",
      "Name: count, dtype: int64\n"
     ]
    }
   ],
   "source": [
    "# Sentiment distribution\n",
    "sentiment_counts = data['StarRatings_Sentiment'].value_counts()\n",
    "print(sentiment_counts)"
   ]
  },
  {
   "cell_type": "markdown",
   "id": "7d227995-ba5d-4dae-bb36-4f1d1df7297d",
   "metadata": {},
   "source": [
    "Base on our  assumptions, the data is a little bit balance"
   ]
  },
  {
   "cell_type": "code",
   "execution_count": 39,
   "id": "9947a1e6-a4a3-4e75-9ca5-2a5105926d09",
   "metadata": {},
   "outputs": [
    {
     "data": {
      "image/png": "[encoded data removed]",
      "text/plain": [
       "<Figure size 800x600 with 1 Axes>"
      ]
     },
     "metadata": {},
     "output_type": "display_data"
    }
   ],
   "source": [
    "# Visualizing the Sentiment column\n",
    "sentiment_counts = data['StarRatings_Sentiment'].value_counts()\n",
    "\n",
    "# Get the colors from the tab10 color map\n",
    "colors = plt.get_cmap('tab10').colors\n",
    "\n",
    "plt.figure(figsize=(8, 6))\n",
    "sns.barplot(x=sentiment_counts.index, y=sentiment_counts.values, palette=colors)\n",
    "plt.title('StarRatings Sentiment Distribution')\n",
    "plt.xlabel('StarRatings Sentiment')\n",
    "plt.ylabel('Count of StarRatings Sentiment')\n",
    "plt.xticks(rotation=0)\n",
    "plt.show()\n"
   ]
  },
  {
   "cell_type": "code",
   "execution_count": 40,
   "id": "308fe3cf-045e-4e58-9e71-7ae9b6ae5f7a",
   "metadata": {},
   "outputs": [
    {
     "name": "stdout",
     "output_type": "stream",
     "text": [
      "StarRatings Sentiment Value Count - Percentage Distribution: \n",
      "StarRatings_Sentiment\n",
      "Negative    56.92\n",
      "Positive    43.08\n",
      "Name: count, dtype: float64\n"
     ]
    }
   ],
   "source": [
    "# Looking at the Percentage distribution of the 'Sentiment' column\n",
    "\n",
    "print(f\"StarRatings Sentiment Value Count - Percentage Distribution: \\n{round(data['StarRatings_Sentiment'].value_counts()/data.shape[0]*100,2)}\")"
   ]
  },
  {
   "cell_type": "markdown",
   "id": "d2a9ab1d-0760-4753-b9df-43adefd04372",
   "metadata": {},
   "source": [
    "Sentiment distribution\n",
    "- 56.92% reviews are negative\n",
    "- 43.08% reviews are positive"
   ]
  },
  {
   "cell_type": "code",
   "execution_count": 42,
   "id": "8da87e83-ec24-4ea0-8dde-a935d2e05306",
   "metadata": {},
   "outputs": [
    {
     "data": {
      "image/png": "[encoded data removed]",
      "text/plain": [
       "<Figure size 800x600 with 1 Axes>"
      ]
     },
     "metadata": {},
     "output_type": "display_data"
    }
   ],
   "source": [
    "# Visualizing the Percentage Distribution of 'Sentiment'\n",
    "\n",
    "# Data\n",
    "sentiments = ['Negative', 'Positive']\n",
    "percentages = [56.92, 43.08]\n",
    "\n",
    "# Create a pie chart\n",
    "plt.figure(figsize=(8, 6))\n",
    "plt.pie(percentages, labels=sentiments, autopct='%1.1f%%', colors=plt.get_cmap('tab10').colors)\n",
    "plt.title('Percentage Distribution of StarRatings_Sentiment')\n",
    "plt.show()"
   ]
  },
  {
   "cell_type": "raw",
   "id": "2ad7ddae-4770-42b7-9175-e5c78deab28b",
   "metadata": {},
   "source": [
    "From our visualization base on the StarRatings categorization, 56.92% of the reviews are negative while 43.08% are positive"
   ]
  },
  {
   "cell_type": "code",
   "execution_count": 43,
   "id": "4953a558-987b-421d-ba0b-aa91f72067bd",
   "metadata": {},
   "outputs": [
    {
     "data": {
      "text/plain": [
       "StarRatings\n",
       "1    6418\n",
       "2     412\n",
       "Name: count, dtype: int64"
      ]
     },
     "execution_count": 43,
     "metadata": {},
     "output_type": "execute_result"
    }
   ],
   "source": [
    "# StarRating Sentiment = Negative\n",
    "data[data['StarRatings_Sentiment'] == 'Negative']['StarRatings'].value_counts()"
   ]
  },
  {
   "cell_type": "markdown",
   "id": "469d6fee-ba97-46f2-8832-b8357bb3ba5f",
   "metadata": {},
   "source": [
    "Based on our StarRatings categorisation, 6,830 reviews are negative"
   ]
  },
  {
   "cell_type": "code",
   "execution_count": 45,
   "id": "361b3cbb-2256-492e-8fa0-461b2c467ef4",
   "metadata": {},
   "outputs": [
    {
     "data": {
      "text/plain": [
       "StarRatings\n",
       "5    4488\n",
       "4     402\n",
       "3     280\n",
       "Name: count, dtype: int64"
      ]
     },
     "execution_count": 45,
     "metadata": {},
     "output_type": "execute_result"
    }
   ],
   "source": [
    "# StarRatings Sentiment = Positive\n",
    "data[data['StarRatings_Sentiment'] == 'Positive']['StarRatings'].value_counts()"
   ]
  },
  {
   "cell_type": "markdown",
   "id": "46a8b26e-04ab-4233-9bb7-f8a8a0b9d806",
   "metadata": {},
   "source": [
    "5,170 reviews are positive based on our categorization"
   ]
  },
  {
   "cell_type": "code",
   "execution_count": null,
   "id": "97d1196b-e38e-4ebf-b34d-be52680ef31f",
   "metadata": {},
   "outputs": [],
   "source": []
  },
  {
   "cell_type": "markdown",
   "id": "59566de0-a3fb-4d06-9694-589caa6bfd77",
   "metadata": {},
   "source": [
    "## Data Preprocessing\n",
    "- Text Cleaning: Remove noise, special characters, and irrelevant information.\n",
    "- Tokenization: Split text into tokens."
   ]
  },
  {
   "cell_type": "code",
   "execution_count": 48,
   "id": "a32beb42-0b72-47fb-80e1-2217a44f9a68",
   "metadata": {},
   "outputs": [
    {
     "data": {
      "text/html": [
       "<div>\n",
       "<style scoped>\n",
       "    .dataframe tbody tr th:only-of-type {\n",
       "        vertical-align: middle;\n",
       "    }\n",
       "\n",
       "    .dataframe tbody tr th {\n",
       "        vertical-align: top;\n",
       "    }\n",
       "\n",
       "    .dataframe thead th {\n",
       "        text-align: right;\n",
       "    }\n",
       "</style>\n",
       "<table border=\"1\" class=\"dataframe\">\n",
       "  <thead>\n",
       "    <tr style=\"text-align: right;\">\n",
       "      <th></th>\n",
       "      <th>Reviewer</th>\n",
       "      <th>Country</th>\n",
       "      <th>StarRatings</th>\n",
       "      <th>Subject</th>\n",
       "      <th>Review</th>\n",
       "      <th>Date_posted</th>\n",
       "      <th>StarRatings_Sentiment</th>\n",
       "    </tr>\n",
       "  </thead>\n",
       "  <tbody>\n",
       "    <tr>\n",
       "      <th>2990</th>\n",
       "      <td>Abraim Silva</td>\n",
       "      <td>AO</td>\n",
       "      <td>5</td>\n",
       "      <td>Product as described</td>\n",
       "      <td>Product as described. Fast delivery. Recommend...</td>\n",
       "      <td>Thursday, November 2, 2023</td>\n",
       "      <td>Positive</td>\n",
       "    </tr>\n",
       "    <tr>\n",
       "      <th>4199</th>\n",
       "      <td>Bonifacio Vega</td>\n",
       "      <td>ES</td>\n",
       "      <td>1</td>\n",
       "      <td>Una vergüenza de aplicación y de…</td>\n",
       "      <td>This company is a shame and a total fraud.</td>\n",
       "      <td>Monday, July 17, 2023</td>\n",
       "      <td>Negative</td>\n",
       "    </tr>\n",
       "    <tr>\n",
       "      <th>11681</th>\n",
       "      <td>venessa meloy</td>\n",
       "      <td>GB</td>\n",
       "      <td>5</td>\n",
       "      <td>i lovve them</td>\n",
       "      <td>i love them and thay fit just right</td>\n",
       "      <td>Saturday, September 12, 2020</td>\n",
       "      <td>Positive</td>\n",
       "    </tr>\n",
       "  </tbody>\n",
       "</table>\n",
       "</div>"
      ],
      "text/plain": [
       "             Reviewer Country  StarRatings                            Subject  \\\n",
       "2990     Abraim Silva      AO            5               Product as described   \n",
       "4199   Bonifacio Vega      ES            1  Una vergüenza de aplicación y de…   \n",
       "11681   venessa meloy      GB            5                       i lovve them   \n",
       "\n",
       "                                                  Review  \\\n",
       "2990   Product as described. Fast delivery. Recommend...   \n",
       "4199          This company is a shame and a total fraud.   \n",
       "11681                i love them and thay fit just right   \n",
       "\n",
       "                        Date_posted StarRatings_Sentiment  \n",
       "2990     Thursday, November 2, 2023              Positive  \n",
       "4199          Monday, July 17, 2023              Negative  \n",
       "11681  Saturday, September 12, 2020              Positive  "
      ]
     },
     "execution_count": 48,
     "metadata": {},
     "output_type": "execute_result"
    }
   ],
   "source": [
    "data.sample(3)"
   ]
  },
  {
   "cell_type": "markdown",
   "id": "539c2080-7f0f-44c5-a8fe-6e60308b8a0a",
   "metadata": {},
   "source": [
    "- Text cleaning and Tokenization"
   ]
  },
  {
   "cell_type": "code",
   "execution_count": 50,
   "id": "82a41048-aef3-41a5-8eec-839323e26792",
   "metadata": {},
   "outputs": [],
   "source": [
    "# import nltk\n",
    "# nltk.download('punkt')\n"
   ]
  },
  {
   "cell_type": "code",
   "execution_count": 51,
   "id": "4ccfe200-19d0-4e7a-af9d-c37f0502fd7e",
   "metadata": {},
   "outputs": [],
   "source": [
    "# import nltk\n",
    "# nltk.data.path.append(r'C:/Users/ooluw/nltk_data')  # Update this path based on the error message\n",
    "# nltk.download('punkt')\n"
   ]
  },
  {
   "cell_type": "code",
   "execution_count": 52,
   "id": "0c0f9760-9b2b-4ef1-830c-78bc453aac4e",
   "metadata": {},
   "outputs": [
    {
     "data": {
      "text/html": [
       "<div>\n",
       "<style scoped>\n",
       "    .dataframe tbody tr th:only-of-type {\n",
       "        vertical-align: middle;\n",
       "    }\n",
       "\n",
       "    .dataframe tbody tr th {\n",
       "        vertical-align: top;\n",
       "    }\n",
       "\n",
       "    .dataframe thead th {\n",
       "        text-align: right;\n",
       "    }\n",
       "</style>\n",
       "<table border=\"1\" class=\"dataframe\">\n",
       "  <thead>\n",
       "    <tr style=\"text-align: right;\">\n",
       "      <th></th>\n",
       "      <th>Reviewer</th>\n",
       "      <th>Country</th>\n",
       "      <th>StarRatings</th>\n",
       "      <th>Subject</th>\n",
       "      <th>Review</th>\n",
       "      <th>Date_posted</th>\n",
       "      <th>StarRatings_Sentiment</th>\n",
       "      <th>cleaned_review</th>\n",
       "    </tr>\n",
       "  </thead>\n",
       "  <tbody>\n",
       "    <tr>\n",
       "      <th>0</th>\n",
       "      <td>Mike Santarcangelo</td>\n",
       "      <td>US</td>\n",
       "      <td>3</td>\n",
       "      <td>Amazon may be a fine company, but...</td>\n",
       "      <td>Amazon is easy to work with, but they fulfill ...</td>\n",
       "      <td>Tuesday, June 4, 2024</td>\n",
       "      <td>Positive</td>\n",
       "      <td>[amazon, easy, work, fulfill, order, via, rd, ...</td>\n",
       "    </tr>\n",
       "    <tr>\n",
       "      <th>1</th>\n",
       "      <td>Arthur Riding</td>\n",
       "      <td>GB</td>\n",
       "      <td>5</td>\n",
       "      <td>Great range of products, generally superior qu...</td>\n",
       "      <td>I have been using AliExpress for well over a y...</td>\n",
       "      <td>Tuesday, June 4, 2024</td>\n",
       "      <td>Positive</td>\n",
       "      <td>[using, aliexpress, well, year, consistently, ...</td>\n",
       "    </tr>\n",
       "    <tr>\n",
       "      <th>2</th>\n",
       "      <td>UK shopper Val</td>\n",
       "      <td>GB</td>\n",
       "      <td>5</td>\n",
       "      <td>Good!</td>\n",
       "      <td>A good, customer-centric marketplace. But neve...</td>\n",
       "      <td>Monday, June 3, 2024</td>\n",
       "      <td>Positive</td>\n",
       "      <td>[good, customercentric, marketplace, neverthel...</td>\n",
       "    </tr>\n",
       "  </tbody>\n",
       "</table>\n",
       "</div>"
      ],
      "text/plain": [
       "             Reviewer Country  StarRatings  \\\n",
       "0  Mike Santarcangelo      US            3   \n",
       "1       Arthur Riding      GB            5   \n",
       "2      UK shopper Val      GB            5   \n",
       "\n",
       "                                             Subject  \\\n",
       "0               Amazon may be a fine company, but...   \n",
       "1  Great range of products, generally superior qu...   \n",
       "2                                              Good!   \n",
       "\n",
       "                                              Review            Date_posted  \\\n",
       "0  Amazon is easy to work with, but they fulfill ...  Tuesday, June 4, 2024   \n",
       "1  I have been using AliExpress for well over a y...  Tuesday, June 4, 2024   \n",
       "2  A good, customer-centric marketplace. But neve...   Monday, June 3, 2024   \n",
       "\n",
       "  StarRatings_Sentiment                                     cleaned_review  \n",
       "0              Positive  [amazon, easy, work, fulfill, order, via, rd, ...  \n",
       "1              Positive  [using, aliexpress, well, year, consistently, ...  \n",
       "2              Positive  [good, customercentric, marketplace, neverthel...  "
      ]
     },
     "execution_count": 52,
     "metadata": {},
     "output_type": "execute_result"
    }
   ],
   "source": [
    "import re\n",
    "import pandas as pd\n",
    "from nltk.tokenize import word_tokenize\n",
    "from nltk.corpus import stopwords\n",
    "from nltk.stem import WordNetLemmatizer\n",
    "\n",
    "# Text cleaning functions\n",
    "def remove_html_tags(text):\n",
    "    clean = re.compile('<.*?>')\n",
    "    return re.sub(clean, '', text)\n",
    "\n",
    "def to_lowercase(text):\n",
    "    return text.lower()\n",
    "\n",
    "def remove_special_characters(text):\n",
    "    return re.sub(r'[^a-zA-Z\\s]', '', text)\n",
    "\n",
    "def remove_numbers(text):\n",
    "    return re.sub(r'\\d+', '', text)\n",
    "\n",
    "def remove_whitespace(text):\n",
    "    return ' '.join(text.split())\n",
    "\n",
    "# Tokenization function\n",
    "def tokenize_text(text):\n",
    "    return word_tokenize(text)\n",
    "\n",
    "# Remove stopwords\n",
    "def remove_stopwords(tokens):\n",
    "    stop_words = set(stopwords.words('english'))\n",
    "    return [word for word in tokens if word not in stop_words]\n",
    "\n",
    "# Lemmatization\n",
    "def lemmatize_words(tokens):\n",
    "    lemmatizer = WordNetLemmatizer()\n",
    "    return [lemmatizer.lemmatize(word) for word in tokens]\n",
    "\n",
    "# Comprehensive preprocessing function\n",
    "def preprocess_text(text):\n",
    "    if not isinstance(text, str):\n",
    "        return []\n",
    "    text = remove_html_tags(text)\n",
    "    text = to_lowercase(text)\n",
    "    text = remove_special_characters(text)\n",
    "    text = remove_numbers(text)\n",
    "    text = remove_whitespace(text)\n",
    "    tokens = tokenize_text(text)\n",
    "    tokens = remove_stopwords(tokens)\n",
    "    tokens = lemmatize_words(tokens)\n",
    "    return tokens\n",
    "\n",
    "# Apply preprocessing to the 'Review' column\n",
    "data['cleaned_review'] = data['Review'].apply(preprocess_text)\n",
    "\n",
    "data.head(3)"
   ]
  },
  {
   "cell_type": "code",
   "execution_count": 53,
   "id": "7b50bbdd-58a0-447c-a985-1031b9bf44b7",
   "metadata": {},
   "outputs": [],
   "source": [
    "# import nltk\n",
    "# nltk.download('punkt_tab')"
   ]
  },
  {
   "cell_type": "code",
   "execution_count": 54,
   "id": "07902c05-a204-4c28-8b06-62258883029d",
   "metadata": {},
   "outputs": [
    {
     "data": {
      "text/plain": [
       "0        [amazon, easy, work, fulfill, order, via, rd, ...\n",
       "1        [using, aliexpress, well, year, consistently, ...\n",
       "2        [good, customercentric, marketplace, neverthel...\n",
       "3        [purchased, android, tesla, style, radio, inst...\n",
       "4        [absolute, con, job, dont, waste, money, scamm...\n",
       "                               ...                        \n",
       "11995                             [im, happy, come, thank]\n",
       "11996                                 [excellent, quality]\n",
       "11997    [ordered, item, aliexpress, two, seller, cance...\n",
       "11998    [great, platform, business, vendor, would, nev...\n",
       "11999    [satisfied, aliexpress, recently, however, cha...\n",
       "Name: cleaned_review, Length: 12000, dtype: object"
      ]
     },
     "execution_count": 54,
     "metadata": {},
     "output_type": "execute_result"
    }
   ],
   "source": [
    "data['cleaned_review']"
   ]
  },
  {
   "cell_type": "code",
   "execution_count": null,
   "id": "11b32b0b-aa19-48ae-8ebb-ac5b1984fd2a",
   "metadata": {},
   "outputs": [],
   "source": []
  },
  {
   "cell_type": "markdown",
   "id": "6f363246-d947-473c-863c-492364fa5e5e",
   "metadata": {},
   "source": [
    "- Creating a Word Cloud of the most frequent words in all reviews"
   ]
  },
  {
   "cell_type": "code",
   "execution_count": 56,
   "id": "4ec5ddb6-96bf-4d9f-a42b-9a9d7fe0672e",
   "metadata": {},
   "outputs": [
    {
     "data": {
      "image/png": "[encoded data removed]",
      "text/plain": [
       "<Figure size 1000x800 with 1 Axes>"
      ]
     },
     "metadata": {},
     "output_type": "display_data"
    }
   ],
   "source": [
    "# Combine all reviews into a single string\n",
    "all_reviews = ' '.join([' '.join(tokens) for tokens in data['cleaned_review']])\n",
    "\n",
    "# Generate the word cloud\n",
    "wordcloud = WordCloud(width=800, height=400, background_color='white').generate(all_reviews)\n",
    "\n",
    "# Display the word cloud\n",
    "plt.figure(figsize=(10, 8))\n",
    "plt.imshow(wordcloud, interpolation='bilinear')\n",
    "plt.axis('off')\n",
    "plt.title('Word Cloud of all Reviews')\n",
    "plt.show()"
   ]
  },
  {
   "cell_type": "markdown",
   "id": "f23482e0-cdff-4457-a1c8-edb5ff1270d6",
   "metadata": {},
   "source": [
    "The word cloud displays the frequently occurring words in the reviews in a visual format, clearly showing their importance and prevalence in the reviews. This allows for observation of trends and features in the text data."
   ]
  },
  {
   "cell_type": "markdown",
   "id": "baefa75e-a98a-414f-b0dc-6f1a9090a5c1",
   "metadata": {},
   "source": [
    "- Plotting the most frequent words"
   ]
  },
  {
   "cell_type": "code",
   "execution_count": 59,
   "id": "aa19f982-6241-479f-ae24-22e23a88995a",
   "metadata": {},
   "outputs": [
    {
     "data": {
      "image/png": "[encoded data removed]",
      "text/plain": [
       "<Figure size 1200x800 with 1 Axes>"
      ]
     },
     "metadata": {},
     "output_type": "display_data"
    }
   ],
   "source": [
    "# Combine tokens back into strings for each review\n",
    "data['cleaned_review'] = data['cleaned_review'].apply(lambda tokens: ' '.join(tokens))\n",
    "\n",
    "# Calculate Term Frequency using CountVectorizer\n",
    "vectorizer = CountVectorizer()\n",
    "X = vectorizer.fit_transform(data['cleaned_review'])\n",
    "\n",
    "# Sum the term frequencies across all documents\n",
    "term_frequencies = X.sum(axis=0).A1\n",
    "\n",
    "# Create a DataFrame of terms and their frequencies\n",
    "terms = vectorizer.get_feature_names_out()\n",
    "term_freq_data = pd.DataFrame({'term': terms, 'frequency': term_frequencies})\n",
    "\n",
    "# Sort the DataFrame by frequency\n",
    "term_freq_data = term_freq_data.sort_values(by='frequency', ascending=False)\n",
    "\n",
    "# Plot the top 20 terms\n",
    "plt.figure(figsize=(12, 8))\n",
    "sns.barplot(x='frequency', y='term', data=term_freq_data.head(20), palette='viridis')\n",
    "plt.title('Top 20 Words by Frequency')\n",
    "plt.xlabel('Frequency')\n",
    "plt.ylabel('Words')\n",
    "plt.show()"
   ]
  },
  {
   "cell_type": "markdown",
   "id": "7f25abe5-4bef-4620-adae-330691dfe3ca",
   "metadata": {},
   "source": [
    "This shows the most frequent words in the review, with 'aliexpress' topping the chart followed by the word 'item'"
   ]
  },
  {
   "cell_type": "markdown",
   "id": "a330fdc4-739c-43a9-8dfe-db345ae5ae2f",
   "metadata": {},
   "source": [
    "- Removing Noise\n",
    "\n",
    "Rarely used words, often referred to as low-frequency words, can sometimes be noise in the data and may not contribute significantly to the sentiment analysis. Removing these words can help simplify the model and potentially improve its performance."
   ]
  },
  {
   "cell_type": "code",
   "execution_count": 62,
   "id": "c7ceb16a-a00c-4d9a-af98-3226d2eaf5d2",
   "metadata": {},
   "outputs": [
    {
     "data": {
      "text/plain": [
       "aliexpress       8406\n",
       "item             6535\n",
       "seller           6413\n",
       "refund           4935\n",
       "order            4615\n",
       "                 ... \n",
       "posteitaliane       1\n",
       "sorrry              1\n",
       "alijoke             1\n",
       "fraudstersmy        1\n",
       "favoring            1\n",
       "Name: count, Length: 19868, dtype: int64"
      ]
     },
     "execution_count": 62,
     "metadata": {},
     "output_type": "execute_result"
    }
   ],
   "source": [
    "# Eliminating rarely used words, often referred to as low-frequency words\n",
    "freq_words = pd.Series(\" \".join(data['cleaned_review']).split()).value_counts()\n",
    "\n",
    "freq_words"
   ]
  },
  {
   "cell_type": "code",
   "execution_count": 63,
   "id": "076aa034-a045-45fe-b3f2-aa0addde48f8",
   "metadata": {},
   "outputs": [],
   "source": [
    "# Dropping words that appear once in the review\n",
    "drops = freq_words[freq_words <= 1]\n",
    "data['cleaned_review'] = data['cleaned_review'].apply(lambda x: \" \".join(x for x in x.split() if x not in drops))"
   ]
  },
  {
   "cell_type": "code",
   "execution_count": 64,
   "id": "d7a3149f-6a29-40bb-8f50-e5470ec396da",
   "metadata": {},
   "outputs": [
    {
     "data": {
      "text/plain": [
       "aliexpress      8406\n",
       "item            6535\n",
       "seller          6413\n",
       "refund          4935\n",
       "order           4615\n",
       "                ... \n",
       "homebase           2\n",
       "usless             2\n",
       "unauthorised       2\n",
       "rank               2\n",
       "exsg               2\n",
       "Name: count, Length: 8835, dtype: int64"
      ]
     },
     "execution_count": 64,
     "metadata": {},
     "output_type": "execute_result"
    }
   ],
   "source": [
    "freq_words_1 = pd.Series(' '.join(data['cleaned_review']).split()).value_counts()\n",
    "\n",
    "freq_words_1"
   ]
  },
  {
   "cell_type": "code",
   "execution_count": 65,
   "id": "e5e8c3cb-4f8c-4bc7-b33a-08842660199a",
   "metadata": {},
   "outputs": [
    {
     "data": {
      "text/plain": [
       "11000    ive purchased lot company use reasonable thing...\n",
       "11001    good place buy stuff far quite reliable really...\n",
       "11002                    best shop world buy need recomend\n",
       "11003    help product work tried contact seller help tr...\n",
       "11004    year worst used kind good refunded money got d...\n",
       "                               ...                        \n",
       "11995                                  im happy come thank\n",
       "11996                                    excellent quality\n",
       "11997    ordered item aliexpress two seller cancelled s...\n",
       "11998    great platform business vendor would never abl...\n",
       "11999    satisfied aliexpress recently however changed ...\n",
       "Name: cleaned_review, Length: 1000, dtype: object"
      ]
     },
     "execution_count": 65,
     "metadata": {},
     "output_type": "execute_result"
    }
   ],
   "source": [
    "# Viewing the reviews\n",
    "data['cleaned_review'].tail(1000)"
   ]
  },
  {
   "cell_type": "markdown",
   "id": "9875bf52-a174-4315-ae35-2ab189f4f246",
   "metadata": {},
   "source": [
    "### Feature Engineering:\n",
    "\n",
    "- Bag of Words Vectors: Convert text data into numerical feature vectors.\n",
    "- TF-IDF: Transform text data into TF-IDF matrices."
   ]
  },
  {
   "cell_type": "code",
   "execution_count": 67,
   "id": "6727ad36-ff5b-4f73-a874-203f6ab32ed6",
   "metadata": {},
   "outputs": [
    {
     "data": {
      "text/html": [
       "<div>\n",
       "<style scoped>\n",
       "    .dataframe tbody tr th:only-of-type {\n",
       "        vertical-align: middle;\n",
       "    }\n",
       "\n",
       "    .dataframe tbody tr th {\n",
       "        vertical-align: top;\n",
       "    }\n",
       "\n",
       "    .dataframe thead th {\n",
       "        text-align: right;\n",
       "    }\n",
       "</style>\n",
       "<table border=\"1\" class=\"dataframe\">\n",
       "  <thead>\n",
       "    <tr style=\"text-align: right;\">\n",
       "      <th></th>\n",
       "      <th>Reviewer</th>\n",
       "      <th>Country</th>\n",
       "      <th>StarRatings</th>\n",
       "      <th>Subject</th>\n",
       "      <th>Review</th>\n",
       "      <th>Date_posted</th>\n",
       "      <th>StarRatings_Sentiment</th>\n",
       "      <th>cleaned_review</th>\n",
       "    </tr>\n",
       "  </thead>\n",
       "  <tbody>\n",
       "    <tr>\n",
       "      <th>0</th>\n",
       "      <td>Mike Santarcangelo</td>\n",
       "      <td>US</td>\n",
       "      <td>3</td>\n",
       "      <td>Amazon may be a fine company, but...</td>\n",
       "      <td>Amazon is easy to work with, but they fulfill ...</td>\n",
       "      <td>Tuesday, June 4, 2024</td>\n",
       "      <td>Positive</td>\n",
       "      <td>amazon easy work fulfill order via rd party co...</td>\n",
       "    </tr>\n",
       "    <tr>\n",
       "      <th>1</th>\n",
       "      <td>Arthur Riding</td>\n",
       "      <td>GB</td>\n",
       "      <td>5</td>\n",
       "      <td>Great range of products, generally superior qu...</td>\n",
       "      <td>I have been using AliExpress for well over a y...</td>\n",
       "      <td>Tuesday, June 4, 2024</td>\n",
       "      <td>Positive</td>\n",
       "      <td>using aliexpress well year consistently impres...</td>\n",
       "    </tr>\n",
       "  </tbody>\n",
       "</table>\n",
       "</div>"
      ],
      "text/plain": [
       "             Reviewer Country  StarRatings  \\\n",
       "0  Mike Santarcangelo      US            3   \n",
       "1       Arthur Riding      GB            5   \n",
       "\n",
       "                                             Subject  \\\n",
       "0               Amazon may be a fine company, but...   \n",
       "1  Great range of products, generally superior qu...   \n",
       "\n",
       "                                              Review            Date_posted  \\\n",
       "0  Amazon is easy to work with, but they fulfill ...  Tuesday, June 4, 2024   \n",
       "1  I have been using AliExpress for well over a y...  Tuesday, June 4, 2024   \n",
       "\n",
       "  StarRatings_Sentiment                                     cleaned_review  \n",
       "0              Positive  amazon easy work fulfill order via rd party co...  \n",
       "1              Positive  using aliexpress well year consistently impres...  "
      ]
     },
     "execution_count": 67,
     "metadata": {},
     "output_type": "execute_result"
    }
   ],
   "source": [
    "data.head(2)"
   ]
  },
  {
   "cell_type": "code",
   "execution_count": 68,
   "id": "d1e1479b-8fc2-42a2-8808-05b4c7067e53",
   "metadata": {},
   "outputs": [],
   "source": [
    "# #Instantiate BoW Vectors\n",
    "bow_vectorizer = CountVectorizer()\n",
    "x_bow = bow_vectorizer.fit_transform(data['cleaned_review'])"
   ]
  },
  {
   "cell_type": "code",
   "execution_count": 69,
   "id": "33c2327f-f4e6-4312-b830-06f936e18038",
   "metadata": {},
   "outputs": [
    {
     "data": {
      "text/plain": [
       "array([[0, 0, 0, ..., 0, 0, 0],\n",
       "       [0, 0, 0, ..., 0, 0, 0],\n",
       "       [0, 0, 0, ..., 0, 0, 0],\n",
       "       ...,\n",
       "       [0, 0, 0, ..., 0, 0, 0],\n",
       "       [0, 0, 0, ..., 0, 0, 0],\n",
       "       [0, 0, 0, ..., 0, 0, 0]], dtype=int64)"
      ]
     },
     "execution_count": 69,
     "metadata": {},
     "output_type": "execute_result"
    }
   ],
   "source": [
    "# Verify\n",
    "x_bow.toarray()"
   ]
  },
  {
   "cell_type": "code",
   "execution_count": 70,
   "id": "da99db44-48fb-48e0-9f3e-b907824a7568",
   "metadata": {},
   "outputs": [],
   "source": [
    "# #Instantiate TF-IDF\n",
    "tfidf_vectorizer = TfidfVectorizer()\n",
    "x_tfidf = tfidf_vectorizer.fit_transform(data['cleaned_review'])"
   ]
  },
  {
   "cell_type": "code",
   "execution_count": 71,
   "id": "831601dd-6b65-4746-9965-705c018f761b",
   "metadata": {},
   "outputs": [
    {
     "data": {
      "text/plain": [
       "array([[0., 0., 0., ..., 0., 0., 0.],\n",
       "       [0., 0., 0., ..., 0., 0., 0.],\n",
       "       [0., 0., 0., ..., 0., 0., 0.],\n",
       "       ...,\n",
       "       [0., 0., 0., ..., 0., 0., 0.],\n",
       "       [0., 0., 0., ..., 0., 0., 0.],\n",
       "       [0., 0., 0., ..., 0., 0., 0.]])"
      ]
     },
     "execution_count": 71,
     "metadata": {},
     "output_type": "execute_result"
    }
   ],
   "source": [
    "x_tfidf.toarray()"
   ]
  },
  {
   "cell_type": "markdown",
   "id": "37b14f2f-a1b4-469f-beb3-657952e47775",
   "metadata": {},
   "source": [
    "### Model Development:\n",
    "- Vader Model"
   ]
  },
  {
   "cell_type": "code",
   "execution_count": 73,
   "id": "687d3d12-43f6-46aa-a372-bb34644ceda0",
   "metadata": {},
   "outputs": [],
   "source": [
    "# Instantiate Vader sentiment analyser\n",
    "sia = SentimentIntensityAnalyzer()\n",
    "\n",
    "# Apply VADER sentiment analysis to each review\n",
    "data['vader_scores'] = data['cleaned_review'].apply(sia.polarity_scores)\n",
    "\n",
    "# Extract compound score\n",
    "data['compound'] = data['vader_scores'].apply(lambda x: x['compound'])\n",
    "\n",
    "# Categorize sentiment based on compound score\n",
    "def categorize_sentiment(compound_score):\n",
    "    if compound_score >= 0.05:\n",
    "        return 'Positive'\n",
    "    elif compound_score <= -0.05:\n",
    "        return 'Negative'\n",
    "    else:\n",
    "        return 'Neutral'\n",
    "\n",
    "data['vader_sentiment'] = data['compound'].apply(categorize_sentiment)"
   ]
  },
  {
   "cell_type": "code",
   "execution_count": 74,
   "id": "4da2767f-8ecc-4646-afae-d31fc24b9cf4",
   "metadata": {},
   "outputs": [
    {
     "data": {
      "text/html": [
       "<div>\n",
       "<style scoped>\n",
       "    .dataframe tbody tr th:only-of-type {\n",
       "        vertical-align: middle;\n",
       "    }\n",
       "\n",
       "    .dataframe tbody tr th {\n",
       "        vertical-align: top;\n",
       "    }\n",
       "\n",
       "    .dataframe thead th {\n",
       "        text-align: right;\n",
       "    }\n",
       "</style>\n",
       "<table border=\"1\" class=\"dataframe\">\n",
       "  <thead>\n",
       "    <tr style=\"text-align: right;\">\n",
       "      <th></th>\n",
       "      <th>Reviewer</th>\n",
       "      <th>Country</th>\n",
       "      <th>StarRatings</th>\n",
       "      <th>Subject</th>\n",
       "      <th>Review</th>\n",
       "      <th>Date_posted</th>\n",
       "      <th>StarRatings_Sentiment</th>\n",
       "      <th>cleaned_review</th>\n",
       "      <th>vader_scores</th>\n",
       "      <th>compound</th>\n",
       "      <th>vader_sentiment</th>\n",
       "    </tr>\n",
       "  </thead>\n",
       "  <tbody>\n",
       "    <tr>\n",
       "      <th>0</th>\n",
       "      <td>Mike Santarcangelo</td>\n",
       "      <td>US</td>\n",
       "      <td>3</td>\n",
       "      <td>Amazon may be a fine company, but...</td>\n",
       "      <td>Amazon is easy to work with, but they fulfill ...</td>\n",
       "      <td>Tuesday, June 4, 2024</td>\n",
       "      <td>Positive</td>\n",
       "      <td>amazon easy work fulfill order via rd party co...</td>\n",
       "      <td>{'neg': 0.031, 'neu': 0.566, 'pos': 0.402, 'co...</td>\n",
       "      <td>0.9432</td>\n",
       "      <td>Positive</td>\n",
       "    </tr>\n",
       "    <tr>\n",
       "      <th>1</th>\n",
       "      <td>Arthur Riding</td>\n",
       "      <td>GB</td>\n",
       "      <td>5</td>\n",
       "      <td>Great range of products, generally superior qu...</td>\n",
       "      <td>I have been using AliExpress for well over a y...</td>\n",
       "      <td>Tuesday, June 4, 2024</td>\n",
       "      <td>Positive</td>\n",
       "      <td>using aliexpress well year consistently impres...</td>\n",
       "      <td>{'neg': 0.0, 'neu': 0.69, 'pos': 0.31, 'compou...</td>\n",
       "      <td>0.9689</td>\n",
       "      <td>Positive</td>\n",
       "    </tr>\n",
       "    <tr>\n",
       "      <th>2</th>\n",
       "      <td>UK shopper Val</td>\n",
       "      <td>GB</td>\n",
       "      <td>5</td>\n",
       "      <td>Good!</td>\n",
       "      <td>A good, customer-centric marketplace. But neve...</td>\n",
       "      <td>Monday, June 3, 2024</td>\n",
       "      <td>Positive</td>\n",
       "      <td>good marketplace nevertheless need think makin...</td>\n",
       "      <td>{'neg': 0.161, 'neu': 0.566, 'pos': 0.273, 'co...</td>\n",
       "      <td>0.6705</td>\n",
       "      <td>Positive</td>\n",
       "    </tr>\n",
       "  </tbody>\n",
       "</table>\n",
       "</div>"
      ],
      "text/plain": [
       "             Reviewer Country  StarRatings  \\\n",
       "0  Mike Santarcangelo      US            3   \n",
       "1       Arthur Riding      GB            5   \n",
       "2      UK shopper Val      GB            5   \n",
       "\n",
       "                                             Subject  \\\n",
       "0               Amazon may be a fine company, but...   \n",
       "1  Great range of products, generally superior qu...   \n",
       "2                                              Good!   \n",
       "\n",
       "                                              Review            Date_posted  \\\n",
       "0  Amazon is easy to work with, but they fulfill ...  Tuesday, June 4, 2024   \n",
       "1  I have been using AliExpress for well over a y...  Tuesday, June 4, 2024   \n",
       "2  A good, customer-centric marketplace. But neve...   Monday, June 3, 2024   \n",
       "\n",
       "  StarRatings_Sentiment                                     cleaned_review  \\\n",
       "0              Positive  amazon easy work fulfill order via rd party co...   \n",
       "1              Positive  using aliexpress well year consistently impres...   \n",
       "2              Positive  good marketplace nevertheless need think makin...   \n",
       "\n",
       "                                        vader_scores  compound vader_sentiment  \n",
       "0  {'neg': 0.031, 'neu': 0.566, 'pos': 0.402, 'co...    0.9432        Positive  \n",
       "1  {'neg': 0.0, 'neu': 0.69, 'pos': 0.31, 'compou...    0.9689        Positive  \n",
       "2  {'neg': 0.161, 'neu': 0.566, 'pos': 0.273, 'co...    0.6705        Positive  "
      ]
     },
     "execution_count": 74,
     "metadata": {},
     "output_type": "execute_result"
    }
   ],
   "source": [
    "# Verify\n",
    "data.head(3)"
   ]
  },
  {
   "cell_type": "code",
   "execution_count": 75,
   "id": "a58f36db-5d2c-4e60-9fb4-6f32f4453b26",
   "metadata": {},
   "outputs": [
    {
     "data": {
      "text/plain": [
       "0        Positive\n",
       "1        Positive\n",
       "2        Positive\n",
       "3        Positive\n",
       "4        Positive\n",
       "           ...   \n",
       "11995    Positive\n",
       "11996    Positive\n",
       "11997    Negative\n",
       "11998    Positive\n",
       "11999    Negative\n",
       "Name: vader_sentiment, Length: 12000, dtype: object"
      ]
     },
     "execution_count": 75,
     "metadata": {},
     "output_type": "execute_result"
    }
   ],
   "source": [
    "data['vader_sentiment']"
   ]
  },
  {
   "cell_type": "code",
   "execution_count": 76,
   "id": "9fcb78df-0a53-4c75-b5aa-3d84468947e7",
   "metadata": {},
   "outputs": [
    {
     "name": "stdout",
     "output_type": "stream",
     "text": [
      "vader_sentiment\n",
      "Positive    5832\n",
      "Negative    4591\n",
      "Neutral     1577\n",
      "Name: count, dtype: int64\n"
     ]
    },
    {
     "data": {
      "image/png": "[encoded data removed]",
      "text/plain": [
       "<Figure size 800x600 with 1 Axes>"
      ]
     },
     "metadata": {},
     "output_type": "display_data"
    }
   ],
   "source": [
    "# Analyze the distribution of vader sentiments\n",
    "sentiment_counts = data['vader_sentiment'].value_counts()\n",
    "print(sentiment_counts)\n",
    "\n",
    "# Plot the vader sentiment distribution\n",
    "plt.figure(figsize=(8, 6))\n",
    "sns.countplot(x='vader_sentiment', data=data, palette='viridis')\n",
    "plt.title('Distribution of Vader Sentiments')\n",
    "plt.xlabel('Vader Sentiment')\n",
    "plt.ylabel('Count of Vader Sentiment')\n",
    "plt.show()\n"
   ]
  },
  {
   "cell_type": "code",
   "execution_count": 77,
   "id": "a5d51b9f-3879-4af7-8bef-24d455705164",
   "metadata": {},
   "outputs": [
    {
     "name": "stdout",
     "output_type": "stream",
     "text": [
      "Vader_ Sentiment Value Count - Percentage Distribution: \n",
      "vader_sentiment\n",
      "Positive    48.60\n",
      "Negative    38.26\n",
      "Neutral     13.14\n",
      "Name: count, dtype: float64\n"
     ]
    }
   ],
   "source": [
    "# Looking at the Percentage distribution of the 'vader_Sentiment'\n",
    "print(f\"Vader_ Sentiment Value Count - Percentage Distribution: \\n{round(data['vader_sentiment'].value_counts()/data.shape[0]*100,2)}\")\n"
   ]
  },
  {
   "cell_type": "code",
   "execution_count": 78,
   "id": "05950af0-649c-45b3-b4be-a3399ccac438",
   "metadata": {},
   "outputs": [
    {
     "data": {
      "image/png": "[encoded data removed]",
      "text/plain": [
       "<Figure size 800x600 with 1 Axes>"
      ]
     },
     "metadata": {},
     "output_type": "display_data"
    }
   ],
   "source": [
    "# Visualizing the Percentage Distribution of 'Sentiment'\n",
    "\n",
    "# Data\n",
    "vader_sentiment = ['Positive', 'Negative', 'Neutral']\n",
    "percentages = [48.59, 38.28, 13.12]\n",
    "\n",
    "# Create a pie chart\n",
    "plt.figure(figsize=(8, 6))\n",
    "plt.pie(percentages, labels=vader_sentiment, autopct='%1.1f%%', colors=plt.get_cmap('tab10').colors)\n",
    "plt.title('Percentage Distribution of Vader Sentiment')\n",
    "plt.show()"
   ]
  },
  {
   "cell_type": "markdown",
   "id": "65795a23-24dd-4efa-b4aa-44896bdf17e2",
   "metadata": {},
   "source": [
    "We can observed that 48.6% of the vader_sentiments are psoitive, 38.3% are negative and 13.1% are neutral"
   ]
  },
  {
   "cell_type": "markdown",
   "id": "a6cc071e-71b4-44c9-8572-f2fb0cf5b498",
   "metadata": {},
   "source": [
    "- #### Naive Bayes Model"
   ]
  },
  {
   "cell_type": "code",
   "execution_count": 81,
   "id": "a6896808-2820-42c3-928f-0b8e3ead23fe",
   "metadata": {},
   "outputs": [
    {
     "data": {
      "text/html": [
       "<div>\n",
       "<style scoped>\n",
       "    .dataframe tbody tr th:only-of-type {\n",
       "        vertical-align: middle;\n",
       "    }\n",
       "\n",
       "    .dataframe tbody tr th {\n",
       "        vertical-align: top;\n",
       "    }\n",
       "\n",
       "    .dataframe thead th {\n",
       "        text-align: right;\n",
       "    }\n",
       "</style>\n",
       "<table border=\"1\" class=\"dataframe\">\n",
       "  <thead>\n",
       "    <tr style=\"text-align: right;\">\n",
       "      <th></th>\n",
       "      <th>Reviewer</th>\n",
       "      <th>Country</th>\n",
       "      <th>StarRatings</th>\n",
       "      <th>Subject</th>\n",
       "      <th>Review</th>\n",
       "      <th>Date_posted</th>\n",
       "      <th>StarRatings_Sentiment</th>\n",
       "      <th>cleaned_review</th>\n",
       "      <th>vader_scores</th>\n",
       "      <th>compound</th>\n",
       "      <th>vader_sentiment</th>\n",
       "    </tr>\n",
       "  </thead>\n",
       "  <tbody>\n",
       "    <tr>\n",
       "      <th>605</th>\n",
       "      <td>hamidu kionywaki</td>\n",
       "      <td>TZ</td>\n",
       "      <td>5</td>\n",
       "      <td>Im with the company for five years now…</td>\n",
       "      <td>Im with the company for five years now and no ...</td>\n",
       "      <td>Saturday, May 4, 2024</td>\n",
       "      <td>Positive</td>\n",
       "      <td>im company five year transaction failed produc...</td>\n",
       "      <td>{'neg': 0.248, 'neu': 0.752, 'pos': 0.0, 'comp...</td>\n",
       "      <td>-0.5106</td>\n",
       "      <td>Negative</td>\n",
       "    </tr>\n",
       "    <tr>\n",
       "      <th>7617</th>\n",
       "      <td>Benj Fow</td>\n",
       "      <td>GB</td>\n",
       "      <td>1</td>\n",
       "      <td>Delivery</td>\n",
       "      <td>Order a package and only one bit of it arrived...</td>\n",
       "      <td>Tuesday, August 2, 2022</td>\n",
       "      <td>Negative</td>\n",
       "      <td>order package one bit arrived try talk seller ...</td>\n",
       "      <td>{'neg': 0.0, 'neu': 0.8, 'pos': 0.2, 'compound...</td>\n",
       "      <td>0.3612</td>\n",
       "      <td>Positive</td>\n",
       "    </tr>\n",
       "  </tbody>\n",
       "</table>\n",
       "</div>"
      ],
      "text/plain": [
       "              Reviewer Country  StarRatings  \\\n",
       "605   hamidu kionywaki      TZ            5   \n",
       "7617          Benj Fow      GB            1   \n",
       "\n",
       "                                      Subject  \\\n",
       "605   Im with the company for five years now…   \n",
       "7617                                 Delivery   \n",
       "\n",
       "                                                 Review  \\\n",
       "605   Im with the company for five years now and no ...   \n",
       "7617  Order a package and only one bit of it arrived...   \n",
       "\n",
       "                  Date_posted StarRatings_Sentiment  \\\n",
       "605     Saturday, May 4, 2024              Positive   \n",
       "7617  Tuesday, August 2, 2022              Negative   \n",
       "\n",
       "                                         cleaned_review  \\\n",
       "605   im company five year transaction failed produc...   \n",
       "7617  order package one bit arrived try talk seller ...   \n",
       "\n",
       "                                           vader_scores  compound  \\\n",
       "605   {'neg': 0.248, 'neu': 0.752, 'pos': 0.0, 'comp...   -0.5106   \n",
       "7617  {'neg': 0.0, 'neu': 0.8, 'pos': 0.2, 'compound...    0.3612   \n",
       "\n",
       "     vader_sentiment  \n",
       "605         Negative  \n",
       "7617        Positive  "
      ]
     },
     "execution_count": 81,
     "metadata": {},
     "output_type": "execute_result"
    }
   ],
   "source": [
    "data.sample(2)"
   ]
  },
  {
   "cell_type": "code",
   "execution_count": 82,
   "id": "1f084c02-c3eb-46c0-897f-a181960eebce",
   "metadata": {},
   "outputs": [],
   "source": [
    "# Copy the data\n",
    "df = data.copy()"
   ]
  },
  {
   "cell_type": "code",
   "execution_count": 83,
   "id": "320b64ca-37b6-44bb-84ef-d84701e60081",
   "metadata": {},
   "outputs": [
    {
     "data": {
      "text/html": [
       "<div>\n",
       "<style scoped>\n",
       "    .dataframe tbody tr th:only-of-type {\n",
       "        vertical-align: middle;\n",
       "    }\n",
       "\n",
       "    .dataframe tbody tr th {\n",
       "        vertical-align: top;\n",
       "    }\n",
       "\n",
       "    .dataframe thead th {\n",
       "        text-align: right;\n",
       "    }\n",
       "</style>\n",
       "<table border=\"1\" class=\"dataframe\">\n",
       "  <thead>\n",
       "    <tr style=\"text-align: right;\">\n",
       "      <th></th>\n",
       "      <th>StarRatings_Sentiment</th>\n",
       "      <th>cleaned_review</th>\n",
       "    </tr>\n",
       "  </thead>\n",
       "  <tbody>\n",
       "    <tr>\n",
       "      <th>0</th>\n",
       "      <td>Positive</td>\n",
       "      <td>amazon easy work fulfill order via rd party co...</td>\n",
       "    </tr>\n",
       "    <tr>\n",
       "      <th>1</th>\n",
       "      <td>Positive</td>\n",
       "      <td>using aliexpress well year consistently impres...</td>\n",
       "    </tr>\n",
       "  </tbody>\n",
       "</table>\n",
       "</div>"
      ],
      "text/plain": [
       "  StarRatings_Sentiment                                     cleaned_review\n",
       "0              Positive  amazon easy work fulfill order via rd party co...\n",
       "1              Positive  using aliexpress well year consistently impres..."
      ]
     },
     "execution_count": 83,
     "metadata": {},
     "output_type": "execute_result"
    }
   ],
   "source": [
    "# Using the most important feature for our model building\n",
    "df = df[['StarRatings_Sentiment','cleaned_review']]\n",
    "df.head(2)"
   ]
  },
  {
   "cell_type": "code",
   "execution_count": 84,
   "id": "cd18551a-8119-4c05-9082-f46421b86fc8",
   "metadata": {},
   "outputs": [],
   "source": [
    "# Instantiating the dependent and independent variables\n",
    "\n",
    "X = df[\"cleaned_review\"] # independent variable\n",
    "y = df[\"StarRatings_Sentiment\"] # dependent variable\n"
   ]
  },
  {
   "cell_type": "code",
   "execution_count": 85,
   "id": "1b153465-8c11-4500-827a-ad55883bed06",
   "metadata": {},
   "outputs": [
    {
     "data": {
      "text/plain": [
       "1052     1\n",
       "11335    1\n",
       "10009    0\n",
       "8616     1\n",
       "9188     0\n",
       "Name: StarRatings_Sentiment, dtype: int32"
      ]
     },
     "execution_count": 85,
     "metadata": {},
     "output_type": "execute_result"
    }
   ],
   "source": [
    "# Encoding the dependent variable (StarRatings_Sentiment)\n",
    "df[\"StarRatings_Sentiment\"] = LabelEncoder().fit_transform(df[\"StarRatings_Sentiment\"])\n",
    "df[\"StarRatings_Sentiment\"].sample(5)"
   ]
  },
  {
   "cell_type": "code",
   "execution_count": 86,
   "id": "97f9a4da-c603-4b2f-b377-d07984d8a4b9",
   "metadata": {},
   "outputs": [
    {
     "data": {
      "text/plain": [
       "(12000, 2)"
      ]
     },
     "execution_count": 86,
     "metadata": {},
     "output_type": "execute_result"
    }
   ],
   "source": [
    "df.shape"
   ]
  },
  {
   "cell_type": "code",
   "execution_count": 87,
   "id": "9ffd6818-e00d-408d-bb20-c148a6865ee3",
   "metadata": {},
   "outputs": [],
   "source": [
    "# Split the data into training and test sets\n",
    "X_train, X_test, y_train, y_test = train_test_split(X.to_numpy(), y, test_size=0.2, random_state=42)\n"
   ]
  },
  {
   "cell_type": "code",
   "execution_count": 88,
   "id": "e53f9ace-3ca7-4646-bddb-da05c651e875",
   "metadata": {},
   "outputs": [
    {
     "data": {
      "text/plain": [
       "(9600,)"
      ]
     },
     "execution_count": 88,
     "metadata": {},
     "output_type": "execute_result"
    }
   ],
   "source": [
    "X_train.shape"
   ]
  },
  {
   "cell_type": "code",
   "execution_count": 89,
   "id": "3fd42893-0334-4b9c-9737-ed7d309c8e12",
   "metadata": {},
   "outputs": [
    {
     "data": {
      "text/plain": [
       "(2400,)"
      ]
     },
     "execution_count": 89,
     "metadata": {},
     "output_type": "execute_result"
    }
   ],
   "source": [
    "X_test.shape"
   ]
  },
  {
   "cell_type": "markdown",
   "id": "801e593b-0e9d-4f16-90eb-76a3fef087bd",
   "metadata": {},
   "source": [
    "- Vectorize the Training Data Using TF-IDF"
   ]
  },
  {
   "cell_type": "code",
   "execution_count": 91,
   "id": "230cce26-8081-45b9-a4ea-51bd91ee1072",
   "metadata": {},
   "outputs": [],
   "source": [
    "# Choose our vectorizer (TF-IDF)\n",
    "tfidf_vectorizer = TfidfVectorizer()\n",
    "\n",
    "# Vectorize the text data using TF-IDF\n",
    "X_train_tfidf = tfidf_vectorizer.fit_transform(X_train)\n",
    "X_test_tfidf = tfidf_vectorizer.transform(X_test) # Transform using learned vocabulary"
   ]
  },
  {
   "cell_type": "markdown",
   "id": "0dbc085a-4ff0-4839-885a-e7200cef5fe4",
   "metadata": {},
   "source": [
    "- Train the model"
   ]
  },
  {
   "cell_type": "code",
   "execution_count": 93,
   "id": "0cd6c6e8-93e5-4160-805f-8d64b74a8e8c",
   "metadata": {},
   "outputs": [
    {
     "data": {
      "text/html": [
       "<style>#sk-container-id-1 {\n",
       "  /* Definition of color scheme common for light and dark mode */\n",
       "  --sklearn-color-text: #000;\n",
       "  --sklearn-color-text-muted: #666;\n",
       "  --sklearn-color-line: gray;\n",
       "  /* Definition of color scheme for unfitted estimators */\n",
       "  --sklearn-color-unfitted-level-0: #fff5e6;\n",
       "  --sklearn-color-unfitted-level-1: #f6e4d2;\n",
       "  --sklearn-color-unfitted-level-2: #ffe0b3;\n",
       "  --sklearn-color-unfitted-level-3: chocolate;\n",
       "  /* Definition of color scheme for fitted estimators */\n",
       "  --sklearn-color-fitted-level-0: #f0f8ff;\n",
       "  --sklearn-color-fitted-level-1: #d4ebff;\n",
       "  --sklearn-color-fitted-level-2: #b3dbfd;\n",
       "  --sklearn-color-fitted-level-3: cornflowerblue;\n",
       "\n",
       "  /* Specific color for light theme */\n",
       "  --sklearn-color-text-on-default-background: var(--sg-text-color, var(--theme-code-foreground, var(--jp-content-font-color1, black)));\n",
       "  --sklearn-color-background: var(--sg-background-color, var(--theme-background, var(--jp-layout-color0, white)));\n",
       "  --sklearn-color-border-box: var(--sg-text-color, var(--theme-code-foreground, var(--jp-content-font-color1, black)));\n",
       "  --sklearn-color-icon: #696969;\n",
       "\n",
       "  @media (prefers-color-scheme: dark) {\n",
       "    /* Redefinition of color scheme for dark theme */\n",
       "    --sklearn-color-text-on-default-background: var(--sg-text-color, var(--theme-code-foreground, var(--jp-content-font-color1, white)));\n",
       "    --sklearn-color-background: var(--sg-background-color, var(--theme-background, var(--jp-layout-color0, #111)));\n",
       "    --sklearn-color-border-box: var(--sg-text-color, var(--theme-code-foreground, var(--jp-content-font-color1, white)));\n",
       "    --sklearn-color-icon: #878787;\n",
       "  }\n",
       "}\n",
       "\n",
       "#sk-container-id-1 {\n",
       "  color: var(--sklearn-color-text);\n",
       "}\n",
       "\n",
       "#sk-container-id-1 pre {\n",
       "  padding: 0;\n",
       "}\n",
       "\n",
       "#sk-container-id-1 input.sk-hidden--visually {\n",
       "  border: 0;\n",
       "  clip: rect(1px 1px 1px 1px);\n",
       "  clip: rect(1px, 1px, 1px, 1px);\n",
       "  height: 1px;\n",
       "  margin: -1px;\n",
       "  overflow: hidden;\n",
       "  padding: 0;\n",
       "  position: absolute;\n",
       "  width: 1px;\n",
       "}\n",
       "\n",
       "#sk-container-id-1 div.sk-dashed-wrapped {\n",
       "  border: 1px dashed var(--sklearn-color-line);\n",
       "  margin: 0 0.4em 0.5em 0.4em;\n",
       "  box-sizing: border-box;\n",
       "  padding-bottom: 0.4em;\n",
       "  background-color: var(--sklearn-color-background);\n",
       "}\n",
       "\n",
       "#sk-container-id-1 div.sk-container {\n",
       "  /* jupyter's `normalize.less` sets `[hidden] { display: none; }`\n",
       "     but bootstrap.min.css set `[hidden] { display: none !important; }`\n",
       "     so we also need the `!important` here to be able to override the\n",
       "     default hidden behavior on the sphinx rendered scikit-learn.org.\n",
       "     See: https://github.com/scikit-learn/scikit-learn/issues/21755 */\n",
       "  display: inline-block !important;\n",
       "  position: relative;\n",
       "}\n",
       "\n",
       "#sk-container-id-1 div.sk-text-repr-fallback {\n",
       "  display: none;\n",
       "}\n",
       "\n",
       "div.sk-parallel-item,\n",
       "div.sk-serial,\n",
       "div.sk-item {\n",
       "  /* draw centered vertical line to link estimators */\n",
       "  background-image: linear-gradient(var(--sklearn-color-text-on-default-background), var(--sklearn-color-text-on-default-background));\n",
       "  background-size: 2px 100%;\n",
       "  background-repeat: no-repeat;\n",
       "  background-position: center center;\n",
       "}\n",
       "\n",
       "/* Parallel-specific style estimator block */\n",
       "\n",
       "#sk-container-id-1 div.sk-parallel-item::after {\n",
       "  content: \"\";\n",
       "  width: 100%;\n",
       "  border-bottom: 2px solid var(--sklearn-color-text-on-default-background);\n",
       "  flex-grow: 1;\n",
       "}\n",
       "\n",
       "#sk-container-id-1 div.sk-parallel {\n",
       "  display: flex;\n",
       "  align-items: stretch;\n",
       "  justify-content: center;\n",
       "  background-color: var(--sklearn-color-background);\n",
       "  position: relative;\n",
       "}\n",
       "\n",
       "#sk-container-id-1 div.sk-parallel-item {\n",
       "  display: flex;\n",
       "  flex-direction: column;\n",
       "}\n",
       "\n",
       "#sk-container-id-1 div.sk-parallel-item:first-child::after {\n",
       "  align-self: flex-end;\n",
       "  width: 50%;\n",
       "}\n",
       "\n",
       "#sk-container-id-1 div.sk-parallel-item:last-child::after {\n",
       "  align-self: flex-start;\n",
       "  width: 50%;\n",
       "}\n",
       "\n",
       "#sk-container-id-1 div.sk-parallel-item:only-child::after {\n",
       "  width: 0;\n",
       "}\n",
       "\n",
       "/* Serial-specific style estimator block */\n",
       "\n",
       "#sk-container-id-1 div.sk-serial {\n",
       "  display: flex;\n",
       "  flex-direction: column;\n",
       "  align-items: center;\n",
       "  background-color: var(--sklearn-color-background);\n",
       "  padding-right: 1em;\n",
       "  padding-left: 1em;\n",
       "}\n",
       "\n",
       "\n",
       "/* Toggleable style: style used for estimator/Pipeline/ColumnTransformer box that is\n",
       "clickable and can be expanded/collapsed.\n",
       "- Pipeline and ColumnTransformer use this feature and define the default style\n",
       "- Estimators will overwrite some part of the style using the `sk-estimator` class\n",
       "*/\n",
       "\n",
       "/* Pipeline and ColumnTransformer style (default) */\n",
       "\n",
       "#sk-container-id-1 div.sk-toggleable {\n",
       "  /* Default theme specific background. It is overwritten whether we have a\n",
       "  specific estimator or a Pipeline/ColumnTransformer */\n",
       "  background-color: var(--sklearn-color-background);\n",
       "}\n",
       "\n",
       "/* Toggleable label */\n",
       "#sk-container-id-1 label.sk-toggleable__label {\n",
       "  cursor: pointer;\n",
       "  display: flex;\n",
       "  width: 100%;\n",
       "  margin-bottom: 0;\n",
       "  padding: 0.5em;\n",
       "  box-sizing: border-box;\n",
       "  text-align: center;\n",
       "  align-items: start;\n",
       "  justify-content: space-between;\n",
       "  gap: 0.5em;\n",
       "}\n",
       "\n",
       "#sk-container-id-1 label.sk-toggleable__label .caption {\n",
       "  font-size: 0.6rem;\n",
       "  font-weight: lighter;\n",
       "  color: var(--sklearn-color-text-muted);\n",
       "}\n",
       "\n",
       "#sk-container-id-1 label.sk-toggleable__label-arrow:before {\n",
       "  /* Arrow on the left of the label */\n",
       "  content: \"▸\";\n",
       "  float: left;\n",
       "  margin-right: 0.25em;\n",
       "  color: var(--sklearn-color-icon);\n",
       "}\n",
       "\n",
       "#sk-container-id-1 label.sk-toggleable__label-arrow:hover:before {\n",
       "  color: var(--sklearn-color-text);\n",
       "}\n",
       "\n",
       "/* Toggleable content - dropdown */\n",
       "\n",
       "#sk-container-id-1 div.sk-toggleable__content {\n",
       "  max-height: 0;\n",
       "  max-width: 0;\n",
       "  overflow: hidden;\n",
       "  text-align: left;\n",
       "  /* unfitted */\n",
       "  background-color: var(--sklearn-color-unfitted-level-0);\n",
       "}\n",
       "\n",
       "#sk-container-id-1 div.sk-toggleable__content.fitted {\n",
       "  /* fitted */\n",
       "  background-color: var(--sklearn-color-fitted-level-0);\n",
       "}\n",
       "\n",
       "#sk-container-id-1 div.sk-toggleable__content pre {\n",
       "  margin: 0.2em;\n",
       "  border-radius: 0.25em;\n",
       "  color: var(--sklearn-color-text);\n",
       "  /* unfitted */\n",
       "  background-color: var(--sklearn-color-unfitted-level-0);\n",
       "}\n",
       "\n",
       "#sk-container-id-1 div.sk-toggleable__content.fitted pre {\n",
       "  /* unfitted */\n",
       "  background-color: var(--sklearn-color-fitted-level-0);\n",
       "}\n",
       "\n",
       "#sk-container-id-1 input.sk-toggleable__control:checked~div.sk-toggleable__content {\n",
       "  /* Expand drop-down */\n",
       "  max-height: 200px;\n",
       "  max-width: 100%;\n",
       "  overflow: auto;\n",
       "}\n",
       "\n",
       "#sk-container-id-1 input.sk-toggleable__control:checked~label.sk-toggleable__label-arrow:before {\n",
       "  content: \"▾\";\n",
       "}\n",
       "\n",
       "/* Pipeline/ColumnTransformer-specific style */\n",
       "\n",
       "#sk-container-id-1 div.sk-label input.sk-toggleable__control:checked~label.sk-toggleable__label {\n",
       "  color: var(--sklearn-color-text);\n",
       "  background-color: var(--sklearn-color-unfitted-level-2);\n",
       "}\n",
       "\n",
       "#sk-container-id-1 div.sk-label.fitted input.sk-toggleable__control:checked~label.sk-toggleable__label {\n",
       "  background-color: var(--sklearn-color-fitted-level-2);\n",
       "}\n",
       "\n",
       "/* Estimator-specific style */\n",
       "\n",
       "/* Colorize estimator box */\n",
       "#sk-container-id-1 div.sk-estimator input.sk-toggleable__control:checked~label.sk-toggleable__label {\n",
       "  /* unfitted */\n",
       "  background-color: var(--sklearn-color-unfitted-level-2);\n",
       "}\n",
       "\n",
       "#sk-container-id-1 div.sk-estimator.fitted input.sk-toggleable__control:checked~label.sk-toggleable__label {\n",
       "  /* fitted */\n",
       "  background-color: var(--sklearn-color-fitted-level-2);\n",
       "}\n",
       "\n",
       "#sk-container-id-1 div.sk-label label.sk-toggleable__label,\n",
       "#sk-container-id-1 div.sk-label label {\n",
       "  /* The background is the default theme color */\n",
       "  color: var(--sklearn-color-text-on-default-background);\n",
       "}\n",
       "\n",
       "/* On hover, darken the color of the background */\n",
       "#sk-container-id-1 div.sk-label:hover label.sk-toggleable__label {\n",
       "  color: var(--sklearn-color-text);\n",
       "  background-color: var(--sklearn-color-unfitted-level-2);\n",
       "}\n",
       "\n",
       "/* Label box, darken color on hover, fitted */\n",
       "#sk-container-id-1 div.sk-label.fitted:hover label.sk-toggleable__label.fitted {\n",
       "  color: var(--sklearn-color-text);\n",
       "  background-color: var(--sklearn-color-fitted-level-2);\n",
       "}\n",
       "\n",
       "/* Estimator label */\n",
       "\n",
       "#sk-container-id-1 div.sk-label label {\n",
       "  font-family: monospace;\n",
       "  font-weight: bold;\n",
       "  display: inline-block;\n",
       "  line-height: 1.2em;\n",
       "}\n",
       "\n",
       "#sk-container-id-1 div.sk-label-container {\n",
       "  text-align: center;\n",
       "}\n",
       "\n",
       "/* Estimator-specific */\n",
       "#sk-container-id-1 div.sk-estimator {\n",
       "  font-family: monospace;\n",
       "  border: 1px dotted var(--sklearn-color-border-box);\n",
       "  border-radius: 0.25em;\n",
       "  box-sizing: border-box;\n",
       "  margin-bottom: 0.5em;\n",
       "  /* unfitted */\n",
       "  background-color: var(--sklearn-color-unfitted-level-0);\n",
       "}\n",
       "\n",
       "#sk-container-id-1 div.sk-estimator.fitted {\n",
       "  /* fitted */\n",
       "  background-color: var(--sklearn-color-fitted-level-0);\n",
       "}\n",
       "\n",
       "/* on hover */\n",
       "#sk-container-id-1 div.sk-estimator:hover {\n",
       "  /* unfitted */\n",
       "  background-color: var(--sklearn-color-unfitted-level-2);\n",
       "}\n",
       "\n",
       "#sk-container-id-1 div.sk-estimator.fitted:hover {\n",
       "  /* fitted */\n",
       "  background-color: var(--sklearn-color-fitted-level-2);\n",
       "}\n",
       "\n",
       "/* Specification for estimator info (e.g. \"i\" and \"?\") */\n",
       "\n",
       "/* Common style for \"i\" and \"?\" */\n",
       "\n",
       ".sk-estimator-doc-link,\n",
       "a:link.sk-estimator-doc-link,\n",
       "a:visited.sk-estimator-doc-link {\n",
       "  float: right;\n",
       "  font-size: smaller;\n",
       "  line-height: 1em;\n",
       "  font-family: monospace;\n",
       "  background-color: var(--sklearn-color-background);\n",
       "  border-radius: 1em;\n",
       "  height: 1em;\n",
       "  width: 1em;\n",
       "  text-decoration: none !important;\n",
       "  margin-left: 0.5em;\n",
       "  text-align: center;\n",
       "  /* unfitted */\n",
       "  border: var(--sklearn-color-unfitted-level-1) 1pt solid;\n",
       "  color: var(--sklearn-color-unfitted-level-1);\n",
       "}\n",
       "\n",
       ".sk-estimator-doc-link.fitted,\n",
       "a:link.sk-estimator-doc-link.fitted,\n",
       "a:visited.sk-estimator-doc-link.fitted {\n",
       "  /* fitted */\n",
       "  border: var(--sklearn-color-fitted-level-1) 1pt solid;\n",
       "  color: var(--sklearn-color-fitted-level-1);\n",
       "}\n",
       "\n",
       "/* On hover */\n",
       "div.sk-estimator:hover .sk-estimator-doc-link:hover,\n",
       ".sk-estimator-doc-link:hover,\n",
       "div.sk-label-container:hover .sk-estimator-doc-link:hover,\n",
       ".sk-estimator-doc-link:hover {\n",
       "  /* unfitted */\n",
       "  background-color: var(--sklearn-color-unfitted-level-3);\n",
       "  color: var(--sklearn-color-background);\n",
       "  text-decoration: none;\n",
       "}\n",
       "\n",
       "div.sk-estimator.fitted:hover .sk-estimator-doc-link.fitted:hover,\n",
       ".sk-estimator-doc-link.fitted:hover,\n",
       "div.sk-label-container:hover .sk-estimator-doc-link.fitted:hover,\n",
       ".sk-estimator-doc-link.fitted:hover {\n",
       "  /* fitted */\n",
       "  background-color: var(--sklearn-color-fitted-level-3);\n",
       "  color: var(--sklearn-color-background);\n",
       "  text-decoration: none;\n",
       "}\n",
       "\n",
       "/* Span, style for the box shown on hovering the info icon */\n",
       ".sk-estimator-doc-link span {\n",
       "  display: none;\n",
       "  z-index: 9999;\n",
       "  position: relative;\n",
       "  font-weight: normal;\n",
       "  right: .2ex;\n",
       "  padding: .5ex;\n",
       "  margin: .5ex;\n",
       "  width: min-content;\n",
       "  min-width: 20ex;\n",
       "  max-width: 50ex;\n",
       "  color: var(--sklearn-color-text);\n",
       "  box-shadow: 2pt 2pt 4pt #999;\n",
       "  /* unfitted */\n",
       "  background: var(--sklearn-color-unfitted-level-0);\n",
       "  border: .5pt solid var(--sklearn-color-unfitted-level-3);\n",
       "}\n",
       "\n",
       ".sk-estimator-doc-link.fitted span {\n",
       "  /* fitted */\n",
       "  background: var(--sklearn-color-fitted-level-0);\n",
       "  border: var(--sklearn-color-fitted-level-3);\n",
       "}\n",
       "\n",
       ".sk-estimator-doc-link:hover span {\n",
       "  display: block;\n",
       "}\n",
       "\n",
       "/* \"?\"-specific style due to the `<a>` HTML tag */\n",
       "\n",
       "#sk-container-id-1 a.estimator_doc_link {\n",
       "  float: right;\n",
       "  font-size: 1rem;\n",
       "  line-height: 1em;\n",
       "  font-family: monospace;\n",
       "  background-color: var(--sklearn-color-background);\n",
       "  border-radius: 1rem;\n",
       "  height: 1rem;\n",
       "  width: 1rem;\n",
       "  text-decoration: none;\n",
       "  /* unfitted */\n",
       "  color: var(--sklearn-color-unfitted-level-1);\n",
       "  border: var(--sklearn-color-unfitted-level-1) 1pt solid;\n",
       "}\n",
       "\n",
       "#sk-container-id-1 a.estimator_doc_link.fitted {\n",
       "  /* fitted */\n",
       "  border: var(--sklearn-color-fitted-level-1) 1pt solid;\n",
       "  color: var(--sklearn-color-fitted-level-1);\n",
       "}\n",
       "\n",
       "/* On hover */\n",
       "#sk-container-id-1 a.estimator_doc_link:hover {\n",
       "  /* unfitted */\n",
       "  background-color: var(--sklearn-color-unfitted-level-3);\n",
       "  color: var(--sklearn-color-background);\n",
       "  text-decoration: none;\n",
       "}\n",
       "\n",
       "#sk-container-id-1 a.estimator_doc_link.fitted:hover {\n",
       "  /* fitted */\n",
       "  background-color: var(--sklearn-color-fitted-level-3);\n",
       "}\n",
       "</style><div id=\"sk-container-id-1\" class=\"sk-top-container\"><div class=\"sk-text-repr-fallback\"><pre>MultinomialNB()</pre><b>In a Jupyter environment, please rerun this cell to show the HTML representation or trust the notebook. <br />On GitHub, the HTML representation is unable to render, please try loading this page with nbviewer.org.</b></div><div class=\"sk-container\" hidden><div class=\"sk-item\"><div class=\"sk-estimator fitted sk-toggleable\"><input class=\"sk-toggleable__control sk-hidden--visually\" id=\"sk-estimator-id-1\" type=\"checkbox\" checked><label for=\"sk-estimator-id-1\" class=\"sk-toggleable__label fitted sk-toggleable__label-arrow\"><div><div>MultinomialNB</div></div><div><a class=\"sk-estimator-doc-link fitted\" rel=\"noreferrer\" target=\"_blank\" href=\"https://scikit-learn.org/1.6/modules/generated/sklearn.naive_bayes.MultinomialNB.html\">?<span>Documentation for MultinomialNB</span></a><span class=\"sk-estimator-doc-link fitted\">i<span>Fitted</span></span></div></label><div class=\"sk-toggleable__content fitted\"><pre>MultinomialNB()</pre></div> </div></div></div></div>"
      ],
      "text/plain": [
       "MultinomialNB()"
      ]
     },
     "execution_count": 93,
     "metadata": {},
     "output_type": "execute_result"
    }
   ],
   "source": [
    "# Train a Naive Bayes model using TF-IDF\n",
    "mnb_model = MultinomialNB()\n",
    "mnb_model.fit(X_train_tfidf, y_train)\n"
   ]
  },
  {
   "cell_type": "markdown",
   "id": "30583ad1-0e0e-4a26-967c-58011fb1babd",
   "metadata": {},
   "source": [
    "- Model Evaluation"
   ]
  },
  {
   "cell_type": "code",
   "execution_count": 95,
   "id": "d5eb2a46-821a-4620-a22b-b03c2074e1c6",
   "metadata": {},
   "outputs": [
    {
     "name": "stdout",
     "output_type": "stream",
     "text": [
      "Accuracy: 0.8446\n",
      "Precision: 0.8644\n",
      "F1-Score: 0.8389\n",
      "\n",
      "Classification Report:\n",
      "              precision    recall  f1-score   support\n",
      "\n",
      "    Negative       0.80      0.98      0.88      1368\n",
      "    Positive       0.95      0.67      0.79      1032\n",
      "\n",
      "    accuracy                           0.84      2400\n",
      "   macro avg       0.88      0.82      0.83      2400\n",
      "weighted avg       0.86      0.84      0.84      2400\n",
      "\n"
     ]
    }
   ],
   "source": [
    "# Make predictions on the test set\n",
    "mnb_y_pred = mnb_model.predict(X_test_tfidf)\n",
    "\n",
    "# Evaluation metrics\n",
    "accuracy = accuracy_score(y_test, mnb_y_pred)\n",
    "precision = precision_score(y_test, mnb_y_pred, average='weighted')\n",
    "f1 = f1_score(y_test, mnb_y_pred, average='weighted')\n",
    "\n",
    "print(f\"Accuracy: {accuracy:.4f}\")\n",
    "print(f\"Precision: {precision:.4f}\")\n",
    "print(f\"F1-Score: {f1:.4f}\")\n",
    "\n",
    "# Classification report\n",
    "from sklearn.metrics import classification_report\n",
    "print(\"\\nClassification Report:\")\n",
    "print(classification_report(y_test, mnb_y_pred))"
   ]
  },
  {
   "cell_type": "markdown",
   "id": "47f21dda-8d60-447a-81d9-f5a3c175ffdb",
   "metadata": {},
   "source": [
    "- #### Support Vector Classifier Model"
   ]
  },
  {
   "cell_type": "markdown",
   "id": "6cf55bd3-cf2b-48bf-a4a1-e9290be48bce",
   "metadata": {},
   "source": [
    "- Train the Model"
   ]
  },
  {
   "cell_type": "code",
   "execution_count": 98,
   "id": "af3e5ade-6af1-4aba-a465-c9b7ea15756c",
   "metadata": {},
   "outputs": [
    {
     "data": {
      "text/html": [
       "<style>#sk-container-id-2 {\n",
       "  /* Definition of color scheme common for light and dark mode */\n",
       "  --sklearn-color-text: #000;\n",
       "  --sklearn-color-text-muted: #666;\n",
       "  --sklearn-color-line: gray;\n",
       "  /* Definition of color scheme for unfitted estimators */\n",
       "  --sklearn-color-unfitted-level-0: #fff5e6;\n",
       "  --sklearn-color-unfitted-level-1: #f6e4d2;\n",
       "  --sklearn-color-unfitted-level-2: #ffe0b3;\n",
       "  --sklearn-color-unfitted-level-3: chocolate;\n",
       "  /* Definition of color scheme for fitted estimators */\n",
       "  --sklearn-color-fitted-level-0: #f0f8ff;\n",
       "  --sklearn-color-fitted-level-1: #d4ebff;\n",
       "  --sklearn-color-fitted-level-2: #b3dbfd;\n",
       "  --sklearn-color-fitted-level-3: cornflowerblue;\n",
       "\n",
       "  /* Specific color for light theme */\n",
       "  --sklearn-color-text-on-default-background: var(--sg-text-color, var(--theme-code-foreground, var(--jp-content-font-color1, black)));\n",
       "  --sklearn-color-background: var(--sg-background-color, var(--theme-background, var(--jp-layout-color0, white)));\n",
       "  --sklearn-color-border-box: var(--sg-text-color, var(--theme-code-foreground, var(--jp-content-font-color1, black)));\n",
       "  --sklearn-color-icon: #696969;\n",
       "\n",
       "  @media (prefers-color-scheme: dark) {\n",
       "    /* Redefinition of color scheme for dark theme */\n",
       "    --sklearn-color-text-on-default-background: var(--sg-text-color, var(--theme-code-foreground, var(--jp-content-font-color1, white)));\n",
       "    --sklearn-color-background: var(--sg-background-color, var(--theme-background, var(--jp-layout-color0, #111)));\n",
       "    --sklearn-color-border-box: var(--sg-text-color, var(--theme-code-foreground, var(--jp-content-font-color1, white)));\n",
       "    --sklearn-color-icon: #878787;\n",
       "  }\n",
       "}\n",
       "\n",
       "#sk-container-id-2 {\n",
       "  color: var(--sklearn-color-text);\n",
       "}\n",
       "\n",
       "#sk-container-id-2 pre {\n",
       "  padding: 0;\n",
       "}\n",
       "\n",
       "#sk-container-id-2 input.sk-hidden--visually {\n",
       "  border: 0;\n",
       "  clip: rect(1px 1px 1px 1px);\n",
       "  clip: rect(1px, 1px, 1px, 1px);\n",
       "  height: 1px;\n",
       "  margin: -1px;\n",
       "  overflow: hidden;\n",
       "  padding: 0;\n",
       "  position: absolute;\n",
       "  width: 1px;\n",
       "}\n",
       "\n",
       "#sk-container-id-2 div.sk-dashed-wrapped {\n",
       "  border: 1px dashed var(--sklearn-color-line);\n",
       "  margin: 0 0.4em 0.5em 0.4em;\n",
       "  box-sizing: border-box;\n",
       "  padding-bottom: 0.4em;\n",
       "  background-color: var(--sklearn-color-background);\n",
       "}\n",
       "\n",
       "#sk-container-id-2 div.sk-container {\n",
       "  /* jupyter's `normalize.less` sets `[hidden] { display: none; }`\n",
       "     but bootstrap.min.css set `[hidden] { display: none !important; }`\n",
       "     so we also need the `!important` here to be able to override the\n",
       "     default hidden behavior on the sphinx rendered scikit-learn.org.\n",
       "     See: https://github.com/scikit-learn/scikit-learn/issues/21755 */\n",
       "  display: inline-block !important;\n",
       "  position: relative;\n",
       "}\n",
       "\n",
       "#sk-container-id-2 div.sk-text-repr-fallback {\n",
       "  display: none;\n",
       "}\n",
       "\n",
       "div.sk-parallel-item,\n",
       "div.sk-serial,\n",
       "div.sk-item {\n",
       "  /* draw centered vertical line to link estimators */\n",
       "  background-image: linear-gradient(var(--sklearn-color-text-on-default-background), var(--sklearn-color-text-on-default-background));\n",
       "  background-size: 2px 100%;\n",
       "  background-repeat: no-repeat;\n",
       "  background-position: center center;\n",
       "}\n",
       "\n",
       "/* Parallel-specific style estimator block */\n",
       "\n",
       "#sk-container-id-2 div.sk-parallel-item::after {\n",
       "  content: \"\";\n",
       "  width: 100%;\n",
       "  border-bottom: 2px solid var(--sklearn-color-text-on-default-background);\n",
       "  flex-grow: 1;\n",
       "}\n",
       "\n",
       "#sk-container-id-2 div.sk-parallel {\n",
       "  display: flex;\n",
       "  align-items: stretch;\n",
       "  justify-content: center;\n",
       "  background-color: var(--sklearn-color-background);\n",
       "  position: relative;\n",
       "}\n",
       "\n",
       "#sk-container-id-2 div.sk-parallel-item {\n",
       "  display: flex;\n",
       "  flex-direction: column;\n",
       "}\n",
       "\n",
       "#sk-container-id-2 div.sk-parallel-item:first-child::after {\n",
       "  align-self: flex-end;\n",
       "  width: 50%;\n",
       "}\n",
       "\n",
       "#sk-container-id-2 div.sk-parallel-item:last-child::after {\n",
       "  align-self: flex-start;\n",
       "  width: 50%;\n",
       "}\n",
       "\n",
       "#sk-container-id-2 div.sk-parallel-item:only-child::after {\n",
       "  width: 0;\n",
       "}\n",
       "\n",
       "/* Serial-specific style estimator block */\n",
       "\n",
       "#sk-container-id-2 div.sk-serial {\n",
       "  display: flex;\n",
       "  flex-direction: column;\n",
       "  align-items: center;\n",
       "  background-color: var(--sklearn-color-background);\n",
       "  padding-right: 1em;\n",
       "  padding-left: 1em;\n",
       "}\n",
       "\n",
       "\n",
       "/* Toggleable style: style used for estimator/Pipeline/ColumnTransformer box that is\n",
       "clickable and can be expanded/collapsed.\n",
       "- Pipeline and ColumnTransformer use this feature and define the default style\n",
       "- Estimators will overwrite some part of the style using the `sk-estimator` class\n",
       "*/\n",
       "\n",
       "/* Pipeline and ColumnTransformer style (default) */\n",
       "\n",
       "#sk-container-id-2 div.sk-toggleable {\n",
       "  /* Default theme specific background. It is overwritten whether we have a\n",
       "  specific estimator or a Pipeline/ColumnTransformer */\n",
       "  background-color: var(--sklearn-color-background);\n",
       "}\n",
       "\n",
       "/* Toggleable label */\n",
       "#sk-container-id-2 label.sk-toggleable__label {\n",
       "  cursor: pointer;\n",
       "  display: flex;\n",
       "  width: 100%;\n",
       "  margin-bottom: 0;\n",
       "  padding: 0.5em;\n",
       "  box-sizing: border-box;\n",
       "  text-align: center;\n",
       "  align-items: start;\n",
       "  justify-content: space-between;\n",
       "  gap: 0.5em;\n",
       "}\n",
       "\n",
       "#sk-container-id-2 label.sk-toggleable__label .caption {\n",
       "  font-size: 0.6rem;\n",
       "  font-weight: lighter;\n",
       "  color: var(--sklearn-color-text-muted);\n",
       "}\n",
       "\n",
       "#sk-container-id-2 label.sk-toggleable__label-arrow:before {\n",
       "  /* Arrow on the left of the label */\n",
       "  content: \"▸\";\n",
       "  float: left;\n",
       "  margin-right: 0.25em;\n",
       "  color: var(--sklearn-color-icon);\n",
       "}\n",
       "\n",
       "#sk-container-id-2 label.sk-toggleable__label-arrow:hover:before {\n",
       "  color: var(--sklearn-color-text);\n",
       "}\n",
       "\n",
       "/* Toggleable content - dropdown */\n",
       "\n",
       "#sk-container-id-2 div.sk-toggleable__content {\n",
       "  max-height: 0;\n",
       "  max-width: 0;\n",
       "  overflow: hidden;\n",
       "  text-align: left;\n",
       "  /* unfitted */\n",
       "  background-color: var(--sklearn-color-unfitted-level-0);\n",
       "}\n",
       "\n",
       "#sk-container-id-2 div.sk-toggleable__content.fitted {\n",
       "  /* fitted */\n",
       "  background-color: var(--sklearn-color-fitted-level-0);\n",
       "}\n",
       "\n",
       "#sk-container-id-2 div.sk-toggleable__content pre {\n",
       "  margin: 0.2em;\n",
       "  border-radius: 0.25em;\n",
       "  color: var(--sklearn-color-text);\n",
       "  /* unfitted */\n",
       "  background-color: var(--sklearn-color-unfitted-level-0);\n",
       "}\n",
       "\n",
       "#sk-container-id-2 div.sk-toggleable__content.fitted pre {\n",
       "  /* unfitted */\n",
       "  background-color: var(--sklearn-color-fitted-level-0);\n",
       "}\n",
       "\n",
       "#sk-container-id-2 input.sk-toggleable__control:checked~div.sk-toggleable__content {\n",
       "  /* Expand drop-down */\n",
       "  max-height: 200px;\n",
       "  max-width: 100%;\n",
       "  overflow: auto;\n",
       "}\n",
       "\n",
       "#sk-container-id-2 input.sk-toggleable__control:checked~label.sk-toggleable__label-arrow:before {\n",
       "  content: \"▾\";\n",
       "}\n",
       "\n",
       "/* Pipeline/ColumnTransformer-specific style */\n",
       "\n",
       "#sk-container-id-2 div.sk-label input.sk-toggleable__control:checked~label.sk-toggleable__label {\n",
       "  color: var(--sklearn-color-text);\n",
       "  background-color: var(--sklearn-color-unfitted-level-2);\n",
       "}\n",
       "\n",
       "#sk-container-id-2 div.sk-label.fitted input.sk-toggleable__control:checked~label.sk-toggleable__label {\n",
       "  background-color: var(--sklearn-color-fitted-level-2);\n",
       "}\n",
       "\n",
       "/* Estimator-specific style */\n",
       "\n",
       "/* Colorize estimator box */\n",
       "#sk-container-id-2 div.sk-estimator input.sk-toggleable__control:checked~label.sk-toggleable__label {\n",
       "  /* unfitted */\n",
       "  background-color: var(--sklearn-color-unfitted-level-2);\n",
       "}\n",
       "\n",
       "#sk-container-id-2 div.sk-estimator.fitted input.sk-toggleable__control:checked~label.sk-toggleable__label {\n",
       "  /* fitted */\n",
       "  background-color: var(--sklearn-color-fitted-level-2);\n",
       "}\n",
       "\n",
       "#sk-container-id-2 div.sk-label label.sk-toggleable__label,\n",
       "#sk-container-id-2 div.sk-label label {\n",
       "  /* The background is the default theme color */\n",
       "  color: var(--sklearn-color-text-on-default-background);\n",
       "}\n",
       "\n",
       "/* On hover, darken the color of the background */\n",
       "#sk-container-id-2 div.sk-label:hover label.sk-toggleable__label {\n",
       "  color: var(--sklearn-color-text);\n",
       "  background-color: var(--sklearn-color-unfitted-level-2);\n",
       "}\n",
       "\n",
       "/* Label box, darken color on hover, fitted */\n",
       "#sk-container-id-2 div.sk-label.fitted:hover label.sk-toggleable__label.fitted {\n",
       "  color: var(--sklearn-color-text);\n",
       "  background-color: var(--sklearn-color-fitted-level-2);\n",
       "}\n",
       "\n",
       "/* Estimator label */\n",
       "\n",
       "#sk-container-id-2 div.sk-label label {\n",
       "  font-family: monospace;\n",
       "  font-weight: bold;\n",
       "  display: inline-block;\n",
       "  line-height: 1.2em;\n",
       "}\n",
       "\n",
       "#sk-container-id-2 div.sk-label-container {\n",
       "  text-align: center;\n",
       "}\n",
       "\n",
       "/* Estimator-specific */\n",
       "#sk-container-id-2 div.sk-estimator {\n",
       "  font-family: monospace;\n",
       "  border: 1px dotted var(--sklearn-color-border-box);\n",
       "  border-radius: 0.25em;\n",
       "  box-sizing: border-box;\n",
       "  margin-bottom: 0.5em;\n",
       "  /* unfitted */\n",
       "  background-color: var(--sklearn-color-unfitted-level-0);\n",
       "}\n",
       "\n",
       "#sk-container-id-2 div.sk-estimator.fitted {\n",
       "  /* fitted */\n",
       "  background-color: var(--sklearn-color-fitted-level-0);\n",
       "}\n",
       "\n",
       "/* on hover */\n",
       "#sk-container-id-2 div.sk-estimator:hover {\n",
       "  /* unfitted */\n",
       "  background-color: var(--sklearn-color-unfitted-level-2);\n",
       "}\n",
       "\n",
       "#sk-container-id-2 div.sk-estimator.fitted:hover {\n",
       "  /* fitted */\n",
       "  background-color: var(--sklearn-color-fitted-level-2);\n",
       "}\n",
       "\n",
       "/* Specification for estimator info (e.g. \"i\" and \"?\") */\n",
       "\n",
       "/* Common style for \"i\" and \"?\" */\n",
       "\n",
       ".sk-estimator-doc-link,\n",
       "a:link.sk-estimator-doc-link,\n",
       "a:visited.sk-estimator-doc-link {\n",
       "  float: right;\n",
       "  font-size: smaller;\n",
       "  line-height: 1em;\n",
       "  font-family: monospace;\n",
       "  background-color: var(--sklearn-color-background);\n",
       "  border-radius: 1em;\n",
       "  height: 1em;\n",
       "  width: 1em;\n",
       "  text-decoration: none !important;\n",
       "  margin-left: 0.5em;\n",
       "  text-align: center;\n",
       "  /* unfitted */\n",
       "  border: var(--sklearn-color-unfitted-level-1) 1pt solid;\n",
       "  color: var(--sklearn-color-unfitted-level-1);\n",
       "}\n",
       "\n",
       ".sk-estimator-doc-link.fitted,\n",
       "a:link.sk-estimator-doc-link.fitted,\n",
       "a:visited.sk-estimator-doc-link.fitted {\n",
       "  /* fitted */\n",
       "  border: var(--sklearn-color-fitted-level-1) 1pt solid;\n",
       "  color: var(--sklearn-color-fitted-level-1);\n",
       "}\n",
       "\n",
       "/* On hover */\n",
       "div.sk-estimator:hover .sk-estimator-doc-link:hover,\n",
       ".sk-estimator-doc-link:hover,\n",
       "div.sk-label-container:hover .sk-estimator-doc-link:hover,\n",
       ".sk-estimator-doc-link:hover {\n",
       "  /* unfitted */\n",
       "  background-color: var(--sklearn-color-unfitted-level-3);\n",
       "  color: var(--sklearn-color-background);\n",
       "  text-decoration: none;\n",
       "}\n",
       "\n",
       "div.sk-estimator.fitted:hover .sk-estimator-doc-link.fitted:hover,\n",
       ".sk-estimator-doc-link.fitted:hover,\n",
       "div.sk-label-container:hover .sk-estimator-doc-link.fitted:hover,\n",
       ".sk-estimator-doc-link.fitted:hover {\n",
       "  /* fitted */\n",
       "  background-color: var(--sklearn-color-fitted-level-3);\n",
       "  color: var(--sklearn-color-background);\n",
       "  text-decoration: none;\n",
       "}\n",
       "\n",
       "/* Span, style for the box shown on hovering the info icon */\n",
       ".sk-estimator-doc-link span {\n",
       "  display: none;\n",
       "  z-index: 9999;\n",
       "  position: relative;\n",
       "  font-weight: normal;\n",
       "  right: .2ex;\n",
       "  padding: .5ex;\n",
       "  margin: .5ex;\n",
       "  width: min-content;\n",
       "  min-width: 20ex;\n",
       "  max-width: 50ex;\n",
       "  color: var(--sklearn-color-text);\n",
       "  box-shadow: 2pt 2pt 4pt #999;\n",
       "  /* unfitted */\n",
       "  background: var(--sklearn-color-unfitted-level-0);\n",
       "  border: .5pt solid var(--sklearn-color-unfitted-level-3);\n",
       "}\n",
       "\n",
       ".sk-estimator-doc-link.fitted span {\n",
       "  /* fitted */\n",
       "  background: var(--sklearn-color-fitted-level-0);\n",
       "  border: var(--sklearn-color-fitted-level-3);\n",
       "}\n",
       "\n",
       ".sk-estimator-doc-link:hover span {\n",
       "  display: block;\n",
       "}\n",
       "\n",
       "/* \"?\"-specific style due to the `<a>` HTML tag */\n",
       "\n",
       "#sk-container-id-2 a.estimator_doc_link {\n",
       "  float: right;\n",
       "  font-size: 1rem;\n",
       "  line-height: 1em;\n",
       "  font-family: monospace;\n",
       "  background-color: var(--sklearn-color-background);\n",
       "  border-radius: 1rem;\n",
       "  height: 1rem;\n",
       "  width: 1rem;\n",
       "  text-decoration: none;\n",
       "  /* unfitted */\n",
       "  color: var(--sklearn-color-unfitted-level-1);\n",
       "  border: var(--sklearn-color-unfitted-level-1) 1pt solid;\n",
       "}\n",
       "\n",
       "#sk-container-id-2 a.estimator_doc_link.fitted {\n",
       "  /* fitted */\n",
       "  border: var(--sklearn-color-fitted-level-1) 1pt solid;\n",
       "  color: var(--sklearn-color-fitted-level-1);\n",
       "}\n",
       "\n",
       "/* On hover */\n",
       "#sk-container-id-2 a.estimator_doc_link:hover {\n",
       "  /* unfitted */\n",
       "  background-color: var(--sklearn-color-unfitted-level-3);\n",
       "  color: var(--sklearn-color-background);\n",
       "  text-decoration: none;\n",
       "}\n",
       "\n",
       "#sk-container-id-2 a.estimator_doc_link.fitted:hover {\n",
       "  /* fitted */\n",
       "  background-color: var(--sklearn-color-fitted-level-3);\n",
       "}\n",
       "</style><div id=\"sk-container-id-2\" class=\"sk-top-container\"><div class=\"sk-text-repr-fallback\"><pre>SVC(kernel=&#x27;linear&#x27;)</pre><b>In a Jupyter environment, please rerun this cell to show the HTML representation or trust the notebook. <br />On GitHub, the HTML representation is unable to render, please try loading this page with nbviewer.org.</b></div><div class=\"sk-container\" hidden><div class=\"sk-item\"><div class=\"sk-estimator fitted sk-toggleable\"><input class=\"sk-toggleable__control sk-hidden--visually\" id=\"sk-estimator-id-2\" type=\"checkbox\" checked><label for=\"sk-estimator-id-2\" class=\"sk-toggleable__label fitted sk-toggleable__label-arrow\"><div><div>SVC</div></div><div><a class=\"sk-estimator-doc-link fitted\" rel=\"noreferrer\" target=\"_blank\" href=\"https://scikit-learn.org/1.6/modules/generated/sklearn.svm.SVC.html\">?<span>Documentation for SVC</span></a><span class=\"sk-estimator-doc-link fitted\">i<span>Fitted</span></span></div></label><div class=\"sk-toggleable__content fitted\"><pre>SVC(kernel=&#x27;linear&#x27;)</pre></div> </div></div></div></div>"
      ],
      "text/plain": [
       "SVC(kernel='linear')"
      ]
     },
     "execution_count": 98,
     "metadata": {},
     "output_type": "execute_result"
    }
   ],
   "source": [
    "# Fit the SVC to train the data\n",
    "from sklearn.svm import SVC\n",
    "\n",
    "svc_model = SVC(kernel = 'linear')\n",
    "svc_model.fit(X_train_tfidf, y_train)"
   ]
  },
  {
   "cell_type": "markdown",
   "id": "aaa1c675-d140-4295-afcc-fd627a58ff7a",
   "metadata": {},
   "source": [
    "- Model Evaluation"
   ]
  },
  {
   "cell_type": "code",
   "execution_count": 100,
   "id": "9ae9b0ab-27af-4bed-bcfc-62c88fc45243",
   "metadata": {},
   "outputs": [
    {
     "name": "stdout",
     "output_type": "stream",
     "text": [
      "Accuracy: 0.9196\n",
      "Precision: 0.9202\n",
      "F1-Score: 0.9197\n",
      "\n",
      "Classification Report:\n",
      "              precision    recall  f1-score   support\n",
      "\n",
      "    Negative       0.94      0.92      0.93      1368\n",
      "    Positive       0.89      0.92      0.91      1032\n",
      "\n",
      "    accuracy                           0.92      2400\n",
      "   macro avg       0.92      0.92      0.92      2400\n",
      "weighted avg       0.92      0.92      0.92      2400\n",
      "\n"
     ]
    }
   ],
   "source": [
    "# Make predictions on the test set\n",
    "svc_y_pred = svc_model.predict(X_test_tfidf)\n",
    "\n",
    "# Evaluation metrics\n",
    "accuracy = accuracy_score(y_test, svc_y_pred)\n",
    "precision = precision_score(y_test, svc_y_pred, average='weighted')\n",
    "f1 = f1_score(y_test, svc_y_pred, average='weighted')\n",
    "\n",
    "print(f\"Accuracy: {accuracy:.4f}\")\n",
    "print(f\"Precision: {precision:.4f}\")\n",
    "print(f\"F1-Score: {f1:.4f}\")\n",
    "\n",
    "# Classification report\n",
    "print(\"\\nClassification Report:\")\n",
    "print(classification_report(y_test, svc_y_pred))"
   ]
  },
  {
   "cell_type": "code",
   "execution_count": 101,
   "id": "fc5fbff1-95ef-40bf-8c4f-220a78ee820a",
   "metadata": {},
   "outputs": [
    {
     "data": {
      "image/png": "[encoded data removed]",
      "text/plain": [
       "<Figure size 800x600 with 1 Axes>"
      ]
     },
     "metadata": {},
     "output_type": "display_data"
    }
   ],
   "source": [
    "from sklearn.metrics import confusion_matrix\n",
    "\n",
    "# Compute the confusion matrix\n",
    "cm = confusion_matrix(y_test, svc_y_pred)\n",
    "\n",
    "# Plot the heatmap\n",
    "plt.figure(figsize=(8, 6))\n",
    "sns.heatmap(cm, annot=True, fmt='d', cmap='Blues', cbar=False, \n",
    "            xticklabels=['Negative', 'Positive'], yticklabels=['Negative', 'Positive'])\n",
    "plt.xlabel('Predicted')\n",
    "plt.ylabel('Actual')\n",
    "plt.title('Confusion Matrix Heatmap')\n",
    "plt.show()\n"
   ]
  },
  {
   "cell_type": "markdown",
   "id": "d61f9e9b-7aac-4632-866b-63204461a168",
   "metadata": {},
   "source": [
    "#### Logistic Regression Model"
   ]
  },
  {
   "cell_type": "markdown",
   "id": "df780de6-9bc7-49d8-b02f-8c8b650594f2",
   "metadata": {},
   "source": [
    "- Train the Model"
   ]
  },
  {
   "cell_type": "code",
   "execution_count": 104,
   "id": "da99e145-d218-472d-b896-87298f5105cc",
   "metadata": {},
   "outputs": [
    {
     "data": {
      "text/html": [
       "<style>#sk-container-id-3 {\n",
       "  /* Definition of color scheme common for light and dark mode */\n",
       "  --sklearn-color-text: #000;\n",
       "  --sklearn-color-text-muted: #666;\n",
       "  --sklearn-color-line: gray;\n",
       "  /* Definition of color scheme for unfitted estimators */\n",
       "  --sklearn-color-unfitted-level-0: #fff5e6;\n",
       "  --sklearn-color-unfitted-level-1: #f6e4d2;\n",
       "  --sklearn-color-unfitted-level-2: #ffe0b3;\n",
       "  --sklearn-color-unfitted-level-3: chocolate;\n",
       "  /* Definition of color scheme for fitted estimators */\n",
       "  --sklearn-color-fitted-level-0: #f0f8ff;\n",
       "  --sklearn-color-fitted-level-1: #d4ebff;\n",
       "  --sklearn-color-fitted-level-2: #b3dbfd;\n",
       "  --sklearn-color-fitted-level-3: cornflowerblue;\n",
       "\n",
       "  /* Specific color for light theme */\n",
       "  --sklearn-color-text-on-default-background: var(--sg-text-color, var(--theme-code-foreground, var(--jp-content-font-color1, black)));\n",
       "  --sklearn-color-background: var(--sg-background-color, var(--theme-background, var(--jp-layout-color0, white)));\n",
       "  --sklearn-color-border-box: var(--sg-text-color, var(--theme-code-foreground, var(--jp-content-font-color1, black)));\n",
       "  --sklearn-color-icon: #696969;\n",
       "\n",
       "  @media (prefers-color-scheme: dark) {\n",
       "    /* Redefinition of color scheme for dark theme */\n",
       "    --sklearn-color-text-on-default-background: var(--sg-text-color, var(--theme-code-foreground, var(--jp-content-font-color1, white)));\n",
       "    --sklearn-color-background: var(--sg-background-color, var(--theme-background, var(--jp-layout-color0, #111)));\n",
       "    --sklearn-color-border-box: var(--sg-text-color, var(--theme-code-foreground, var(--jp-content-font-color1, white)));\n",
       "    --sklearn-color-icon: #878787;\n",
       "  }\n",
       "}\n",
       "\n",
       "#sk-container-id-3 {\n",
       "  color: var(--sklearn-color-text);\n",
       "}\n",
       "\n",
       "#sk-container-id-3 pre {\n",
       "  padding: 0;\n",
       "}\n",
       "\n",
       "#sk-container-id-3 input.sk-hidden--visually {\n",
       "  border: 0;\n",
       "  clip: rect(1px 1px 1px 1px);\n",
       "  clip: rect(1px, 1px, 1px, 1px);\n",
       "  height: 1px;\n",
       "  margin: -1px;\n",
       "  overflow: hidden;\n",
       "  padding: 0;\n",
       "  position: absolute;\n",
       "  width: 1px;\n",
       "}\n",
       "\n",
       "#sk-container-id-3 div.sk-dashed-wrapped {\n",
       "  border: 1px dashed var(--sklearn-color-line);\n",
       "  margin: 0 0.4em 0.5em 0.4em;\n",
       "  box-sizing: border-box;\n",
       "  padding-bottom: 0.4em;\n",
       "  background-color: var(--sklearn-color-background);\n",
       "}\n",
       "\n",
       "#sk-container-id-3 div.sk-container {\n",
       "  /* jupyter's `normalize.less` sets `[hidden] { display: none; }`\n",
       "     but bootstrap.min.css set `[hidden] { display: none !important; }`\n",
       "     so we also need the `!important` here to be able to override the\n",
       "     default hidden behavior on the sphinx rendered scikit-learn.org.\n",
       "     See: https://github.com/scikit-learn/scikit-learn/issues/21755 */\n",
       "  display: inline-block !important;\n",
       "  position: relative;\n",
       "}\n",
       "\n",
       "#sk-container-id-3 div.sk-text-repr-fallback {\n",
       "  display: none;\n",
       "}\n",
       "\n",
       "div.sk-parallel-item,\n",
       "div.sk-serial,\n",
       "div.sk-item {\n",
       "  /* draw centered vertical line to link estimators */\n",
       "  background-image: linear-gradient(var(--sklearn-color-text-on-default-background), var(--sklearn-color-text-on-default-background));\n",
       "  background-size: 2px 100%;\n",
       "  background-repeat: no-repeat;\n",
       "  background-position: center center;\n",
       "}\n",
       "\n",
       "/* Parallel-specific style estimator block */\n",
       "\n",
       "#sk-container-id-3 div.sk-parallel-item::after {\n",
       "  content: \"\";\n",
       "  width: 100%;\n",
       "  border-bottom: 2px solid var(--sklearn-color-text-on-default-background);\n",
       "  flex-grow: 1;\n",
       "}\n",
       "\n",
       "#sk-container-id-3 div.sk-parallel {\n",
       "  display: flex;\n",
       "  align-items: stretch;\n",
       "  justify-content: center;\n",
       "  background-color: var(--sklearn-color-background);\n",
       "  position: relative;\n",
       "}\n",
       "\n",
       "#sk-container-id-3 div.sk-parallel-item {\n",
       "  display: flex;\n",
       "  flex-direction: column;\n",
       "}\n",
       "\n",
       "#sk-container-id-3 div.sk-parallel-item:first-child::after {\n",
       "  align-self: flex-end;\n",
       "  width: 50%;\n",
       "}\n",
       "\n",
       "#sk-container-id-3 div.sk-parallel-item:last-child::after {\n",
       "  align-self: flex-start;\n",
       "  width: 50%;\n",
       "}\n",
       "\n",
       "#sk-container-id-3 div.sk-parallel-item:only-child::after {\n",
       "  width: 0;\n",
       "}\n",
       "\n",
       "/* Serial-specific style estimator block */\n",
       "\n",
       "#sk-container-id-3 div.sk-serial {\n",
       "  display: flex;\n",
       "  flex-direction: column;\n",
       "  align-items: center;\n",
       "  background-color: var(--sklearn-color-background);\n",
       "  padding-right: 1em;\n",
       "  padding-left: 1em;\n",
       "}\n",
       "\n",
       "\n",
       "/* Toggleable style: style used for estimator/Pipeline/ColumnTransformer box that is\n",
       "clickable and can be expanded/collapsed.\n",
       "- Pipeline and ColumnTransformer use this feature and define the default style\n",
       "- Estimators will overwrite some part of the style using the `sk-estimator` class\n",
       "*/\n",
       "\n",
       "/* Pipeline and ColumnTransformer style (default) */\n",
       "\n",
       "#sk-container-id-3 div.sk-toggleable {\n",
       "  /* Default theme specific background. It is overwritten whether we have a\n",
       "  specific estimator or a Pipeline/ColumnTransformer */\n",
       "  background-color: var(--sklearn-color-background);\n",
       "}\n",
       "\n",
       "/* Toggleable label */\n",
       "#sk-container-id-3 label.sk-toggleable__label {\n",
       "  cursor: pointer;\n",
       "  display: flex;\n",
       "  width: 100%;\n",
       "  margin-bottom: 0;\n",
       "  padding: 0.5em;\n",
       "  box-sizing: border-box;\n",
       "  text-align: center;\n",
       "  align-items: start;\n",
       "  justify-content: space-between;\n",
       "  gap: 0.5em;\n",
       "}\n",
       "\n",
       "#sk-container-id-3 label.sk-toggleable__label .caption {\n",
       "  font-size: 0.6rem;\n",
       "  font-weight: lighter;\n",
       "  color: var(--sklearn-color-text-muted);\n",
       "}\n",
       "\n",
       "#sk-container-id-3 label.sk-toggleable__label-arrow:before {\n",
       "  /* Arrow on the left of the label */\n",
       "  content: \"▸\";\n",
       "  float: left;\n",
       "  margin-right: 0.25em;\n",
       "  color: var(--sklearn-color-icon);\n",
       "}\n",
       "\n",
       "#sk-container-id-3 label.sk-toggleable__label-arrow:hover:before {\n",
       "  color: var(--sklearn-color-text);\n",
       "}\n",
       "\n",
       "/* Toggleable content - dropdown */\n",
       "\n",
       "#sk-container-id-3 div.sk-toggleable__content {\n",
       "  max-height: 0;\n",
       "  max-width: 0;\n",
       "  overflow: hidden;\n",
       "  text-align: left;\n",
       "  /* unfitted */\n",
       "  background-color: var(--sklearn-color-unfitted-level-0);\n",
       "}\n",
       "\n",
       "#sk-container-id-3 div.sk-toggleable__content.fitted {\n",
       "  /* fitted */\n",
       "  background-color: var(--sklearn-color-fitted-level-0);\n",
       "}\n",
       "\n",
       "#sk-container-id-3 div.sk-toggleable__content pre {\n",
       "  margin: 0.2em;\n",
       "  border-radius: 0.25em;\n",
       "  color: var(--sklearn-color-text);\n",
       "  /* unfitted */\n",
       "  background-color: var(--sklearn-color-unfitted-level-0);\n",
       "}\n",
       "\n",
       "#sk-container-id-3 div.sk-toggleable__content.fitted pre {\n",
       "  /* unfitted */\n",
       "  background-color: var(--sklearn-color-fitted-level-0);\n",
       "}\n",
       "\n",
       "#sk-container-id-3 input.sk-toggleable__control:checked~div.sk-toggleable__content {\n",
       "  /* Expand drop-down */\n",
       "  max-height: 200px;\n",
       "  max-width: 100%;\n",
       "  overflow: auto;\n",
       "}\n",
       "\n",
       "#sk-container-id-3 input.sk-toggleable__control:checked~label.sk-toggleable__label-arrow:before {\n",
       "  content: \"▾\";\n",
       "}\n",
       "\n",
       "/* Pipeline/ColumnTransformer-specific style */\n",
       "\n",
       "#sk-container-id-3 div.sk-label input.sk-toggleable__control:checked~label.sk-toggleable__label {\n",
       "  color: var(--sklearn-color-text);\n",
       "  background-color: var(--sklearn-color-unfitted-level-2);\n",
       "}\n",
       "\n",
       "#sk-container-id-3 div.sk-label.fitted input.sk-toggleable__control:checked~label.sk-toggleable__label {\n",
       "  background-color: var(--sklearn-color-fitted-level-2);\n",
       "}\n",
       "\n",
       "/* Estimator-specific style */\n",
       "\n",
       "/* Colorize estimator box */\n",
       "#sk-container-id-3 div.sk-estimator input.sk-toggleable__control:checked~label.sk-toggleable__label {\n",
       "  /* unfitted */\n",
       "  background-color: var(--sklearn-color-unfitted-level-2);\n",
       "}\n",
       "\n",
       "#sk-container-id-3 div.sk-estimator.fitted input.sk-toggleable__control:checked~label.sk-toggleable__label {\n",
       "  /* fitted */\n",
       "  background-color: var(--sklearn-color-fitted-level-2);\n",
       "}\n",
       "\n",
       "#sk-container-id-3 div.sk-label label.sk-toggleable__label,\n",
       "#sk-container-id-3 div.sk-label label {\n",
       "  /* The background is the default theme color */\n",
       "  color: var(--sklearn-color-text-on-default-background);\n",
       "}\n",
       "\n",
       "/* On hover, darken the color of the background */\n",
       "#sk-container-id-3 div.sk-label:hover label.sk-toggleable__label {\n",
       "  color: var(--sklearn-color-text);\n",
       "  background-color: var(--sklearn-color-unfitted-level-2);\n",
       "}\n",
       "\n",
       "/* Label box, darken color on hover, fitted */\n",
       "#sk-container-id-3 div.sk-label.fitted:hover label.sk-toggleable__label.fitted {\n",
       "  color: var(--sklearn-color-text);\n",
       "  background-color: var(--sklearn-color-fitted-level-2);\n",
       "}\n",
       "\n",
       "/* Estimator label */\n",
       "\n",
       "#sk-container-id-3 div.sk-label label {\n",
       "  font-family: monospace;\n",
       "  font-weight: bold;\n",
       "  display: inline-block;\n",
       "  line-height: 1.2em;\n",
       "}\n",
       "\n",
       "#sk-container-id-3 div.sk-label-container {\n",
       "  text-align: center;\n",
       "}\n",
       "\n",
       "/* Estimator-specific */\n",
       "#sk-container-id-3 div.sk-estimator {\n",
       "  font-family: monospace;\n",
       "  border: 1px dotted var(--sklearn-color-border-box);\n",
       "  border-radius: 0.25em;\n",
       "  box-sizing: border-box;\n",
       "  margin-bottom: 0.5em;\n",
       "  /* unfitted */\n",
       "  background-color: var(--sklearn-color-unfitted-level-0);\n",
       "}\n",
       "\n",
       "#sk-container-id-3 div.sk-estimator.fitted {\n",
       "  /* fitted */\n",
       "  background-color: var(--sklearn-color-fitted-level-0);\n",
       "}\n",
       "\n",
       "/* on hover */\n",
       "#sk-container-id-3 div.sk-estimator:hover {\n",
       "  /* unfitted */\n",
       "  background-color: var(--sklearn-color-unfitted-level-2);\n",
       "}\n",
       "\n",
       "#sk-container-id-3 div.sk-estimator.fitted:hover {\n",
       "  /* fitted */\n",
       "  background-color: var(--sklearn-color-fitted-level-2);\n",
       "}\n",
       "\n",
       "/* Specification for estimator info (e.g. \"i\" and \"?\") */\n",
       "\n",
       "/* Common style for \"i\" and \"?\" */\n",
       "\n",
       ".sk-estimator-doc-link,\n",
       "a:link.sk-estimator-doc-link,\n",
       "a:visited.sk-estimator-doc-link {\n",
       "  float: right;\n",
       "  font-size: smaller;\n",
       "  line-height: 1em;\n",
       "  font-family: monospace;\n",
       "  background-color: var(--sklearn-color-background);\n",
       "  border-radius: 1em;\n",
       "  height: 1em;\n",
       "  width: 1em;\n",
       "  text-decoration: none !important;\n",
       "  margin-left: 0.5em;\n",
       "  text-align: center;\n",
       "  /* unfitted */\n",
       "  border: var(--sklearn-color-unfitted-level-1) 1pt solid;\n",
       "  color: var(--sklearn-color-unfitted-level-1);\n",
       "}\n",
       "\n",
       ".sk-estimator-doc-link.fitted,\n",
       "a:link.sk-estimator-doc-link.fitted,\n",
       "a:visited.sk-estimator-doc-link.fitted {\n",
       "  /* fitted */\n",
       "  border: var(--sklearn-color-fitted-level-1) 1pt solid;\n",
       "  color: var(--sklearn-color-fitted-level-1);\n",
       "}\n",
       "\n",
       "/* On hover */\n",
       "div.sk-estimator:hover .sk-estimator-doc-link:hover,\n",
       ".sk-estimator-doc-link:hover,\n",
       "div.sk-label-container:hover .sk-estimator-doc-link:hover,\n",
       ".sk-estimator-doc-link:hover {\n",
       "  /* unfitted */\n",
       "  background-color: var(--sklearn-color-unfitted-level-3);\n",
       "  color: var(--sklearn-color-background);\n",
       "  text-decoration: none;\n",
       "}\n",
       "\n",
       "div.sk-estimator.fitted:hover .sk-estimator-doc-link.fitted:hover,\n",
       ".sk-estimator-doc-link.fitted:hover,\n",
       "div.sk-label-container:hover .sk-estimator-doc-link.fitted:hover,\n",
       ".sk-estimator-doc-link.fitted:hover {\n",
       "  /* fitted */\n",
       "  background-color: var(--sklearn-color-fitted-level-3);\n",
       "  color: var(--sklearn-color-background);\n",
       "  text-decoration: none;\n",
       "}\n",
       "\n",
       "/* Span, style for the box shown on hovering the info icon */\n",
       ".sk-estimator-doc-link span {\n",
       "  display: none;\n",
       "  z-index: 9999;\n",
       "  position: relative;\n",
       "  font-weight: normal;\n",
       "  right: .2ex;\n",
       "  padding: .5ex;\n",
       "  margin: .5ex;\n",
       "  width: min-content;\n",
       "  min-width: 20ex;\n",
       "  max-width: 50ex;\n",
       "  color: var(--sklearn-color-text);\n",
       "  box-shadow: 2pt 2pt 4pt #999;\n",
       "  /* unfitted */\n",
       "  background: var(--sklearn-color-unfitted-level-0);\n",
       "  border: .5pt solid var(--sklearn-color-unfitted-level-3);\n",
       "}\n",
       "\n",
       ".sk-estimator-doc-link.fitted span {\n",
       "  /* fitted */\n",
       "  background: var(--sklearn-color-fitted-level-0);\n",
       "  border: var(--sklearn-color-fitted-level-3);\n",
       "}\n",
       "\n",
       ".sk-estimator-doc-link:hover span {\n",
       "  display: block;\n",
       "}\n",
       "\n",
       "/* \"?\"-specific style due to the `<a>` HTML tag */\n",
       "\n",
       "#sk-container-id-3 a.estimator_doc_link {\n",
       "  float: right;\n",
       "  font-size: 1rem;\n",
       "  line-height: 1em;\n",
       "  font-family: monospace;\n",
       "  background-color: var(--sklearn-color-background);\n",
       "  border-radius: 1rem;\n",
       "  height: 1rem;\n",
       "  width: 1rem;\n",
       "  text-decoration: none;\n",
       "  /* unfitted */\n",
       "  color: var(--sklearn-color-unfitted-level-1);\n",
       "  border: var(--sklearn-color-unfitted-level-1) 1pt solid;\n",
       "}\n",
       "\n",
       "#sk-container-id-3 a.estimator_doc_link.fitted {\n",
       "  /* fitted */\n",
       "  border: var(--sklearn-color-fitted-level-1) 1pt solid;\n",
       "  color: var(--sklearn-color-fitted-level-1);\n",
       "}\n",
       "\n",
       "/* On hover */\n",
       "#sk-container-id-3 a.estimator_doc_link:hover {\n",
       "  /* unfitted */\n",
       "  background-color: var(--sklearn-color-unfitted-level-3);\n",
       "  color: var(--sklearn-color-background);\n",
       "  text-decoration: none;\n",
       "}\n",
       "\n",
       "#sk-container-id-3 a.estimator_doc_link.fitted:hover {\n",
       "  /* fitted */\n",
       "  background-color: var(--sklearn-color-fitted-level-3);\n",
       "}\n",
       "</style><div id=\"sk-container-id-3\" class=\"sk-top-container\"><div class=\"sk-text-repr-fallback\"><pre>LogisticRegression()</pre><b>In a Jupyter environment, please rerun this cell to show the HTML representation or trust the notebook. <br />On GitHub, the HTML representation is unable to render, please try loading this page with nbviewer.org.</b></div><div class=\"sk-container\" hidden><div class=\"sk-item\"><div class=\"sk-estimator fitted sk-toggleable\"><input class=\"sk-toggleable__control sk-hidden--visually\" id=\"sk-estimator-id-3\" type=\"checkbox\" checked><label for=\"sk-estimator-id-3\" class=\"sk-toggleable__label fitted sk-toggleable__label-arrow\"><div><div>LogisticRegression</div></div><div><a class=\"sk-estimator-doc-link fitted\" rel=\"noreferrer\" target=\"_blank\" href=\"https://scikit-learn.org/1.6/modules/generated/sklearn.linear_model.LogisticRegression.html\">?<span>Documentation for LogisticRegression</span></a><span class=\"sk-estimator-doc-link fitted\">i<span>Fitted</span></span></div></label><div class=\"sk-toggleable__content fitted\"><pre>LogisticRegression()</pre></div> </div></div></div></div>"
      ],
      "text/plain": [
       "LogisticRegression()"
      ]
     },
     "execution_count": 104,
     "metadata": {},
     "output_type": "execute_result"
    }
   ],
   "source": [
    "# Define and train the Logistic Regression model\n",
    "model_logistic = LogisticRegression()\n",
    "model_logistic.fit(X_train_tfidf, y_train)\n"
   ]
  },
  {
   "cell_type": "markdown",
   "id": "8950ff32-69f9-445e-8d84-563179107b40",
   "metadata": {},
   "source": [
    "- Model Evaluation"
   ]
  },
  {
   "cell_type": "code",
   "execution_count": 106,
   "id": "ce3d32a0-cf12-41e9-97fa-469340929ce1",
   "metadata": {},
   "outputs": [
    {
     "name": "stdout",
     "output_type": "stream",
     "text": [
      "Accuracy: 0.9142\n",
      "Precision: 0.9146\n",
      "F1-Score: 0.9143\n",
      "\n",
      "Classification Report:\n",
      "              precision    recall  f1-score   support\n",
      "\n",
      "    Negative       0.93      0.92      0.92      1368\n",
      "    Positive       0.89      0.91      0.90      1032\n",
      "\n",
      "    accuracy                           0.91      2400\n",
      "   macro avg       0.91      0.91      0.91      2400\n",
      "weighted avg       0.91      0.91      0.91      2400\n",
      "\n"
     ]
    }
   ],
   "source": [
    "# Make predictions on the test set\n",
    "y_pred_logistic = model_logistic.predict(X_test_tfidf)\n",
    "\n",
    "# Evaluation metrics\n",
    "accuracy = accuracy_score(y_test, y_pred_logistic)\n",
    "precision = precision_score(y_test, y_pred_logistic, average='weighted')\n",
    "f1 = f1_score(y_test, y_pred_logistic, average='weighted')\n",
    "\n",
    "print(f\"Accuracy: {accuracy:.4f}\")\n",
    "print(f\"Precision: {precision:.4f}\")\n",
    "print(f\"F1-Score: {f1:.4f}\")\n",
    "\n",
    "# Classification report\n",
    "print(\"\\nClassification Report:\")\n",
    "print(classification_report(y_test, y_pred_logistic))"
   ]
  },
  {
   "cell_type": "markdown",
   "id": "79179e36-43f3-48b2-b5f9-1a7280d1e9f1",
   "metadata": {},
   "source": [
    "#### Hyperparameter Tuning of SVC Model for Improved Performance"
   ]
  },
  {
   "cell_type": "code",
   "execution_count": 108,
   "id": "6df32d1a-8f26-4a65-b4cd-376c607a251b",
   "metadata": {},
   "outputs": [
    {
     "data": {
      "text/html": [
       "<div>\n",
       "<style scoped>\n",
       "    .dataframe tbody tr th:only-of-type {\n",
       "        vertical-align: middle;\n",
       "    }\n",
       "\n",
       "    .dataframe tbody tr th {\n",
       "        vertical-align: top;\n",
       "    }\n",
       "\n",
       "    .dataframe thead th {\n",
       "        text-align: right;\n",
       "    }\n",
       "</style>\n",
       "<table border=\"1\" class=\"dataframe\">\n",
       "  <thead>\n",
       "    <tr style=\"text-align: right;\">\n",
       "      <th></th>\n",
       "      <th>StarRatings_Sentiment</th>\n",
       "      <th>cleaned_review</th>\n",
       "    </tr>\n",
       "  </thead>\n",
       "  <tbody>\n",
       "    <tr>\n",
       "      <th>182</th>\n",
       "      <td>1</td>\n",
       "      <td></td>\n",
       "    </tr>\n",
       "    <tr>\n",
       "      <th>3685</th>\n",
       "      <td>0</td>\n",
       "      <td>well still sign parcel supposed day delivery d...</td>\n",
       "    </tr>\n",
       "  </tbody>\n",
       "</table>\n",
       "</div>"
      ],
      "text/plain": [
       "      StarRatings_Sentiment                                     cleaned_review\n",
       "182                       1                                                   \n",
       "3685                      0  well still sign parcel supposed day delivery d..."
      ]
     },
     "execution_count": 108,
     "metadata": {},
     "output_type": "execute_result"
    }
   ],
   "source": [
    "df.sample(2)"
   ]
  },
  {
   "cell_type": "code",
   "execution_count": 109,
   "id": "7e14502a-5ae3-4647-b830-74cc47077cfb",
   "metadata": {},
   "outputs": [
    {
     "name": "stdout",
     "output_type": "stream",
     "text": [
      "Fitting 5 folds for each of 5 candidates, totalling 25 fits\n",
      "Improved Accuracy: 0.9195833333333333\n",
      "Improved F1 Score (Weighted): 0.9197251927466806\n",
      "Improved Precision (Weighted): 0.9202182834836734\n",
      "\n",
      "Classification Report:\n",
      "              precision    recall  f1-score   support\n",
      "\n",
      "    Negative       0.94      0.92      0.93      1368\n",
      "    Positive       0.89      0.92      0.91      1032\n",
      "\n",
      "    accuracy                           0.92      2400\n",
      "   macro avg       0.92      0.92      0.92      2400\n",
      "weighted avg       0.92      0.92      0.92      2400\n",
      "\n"
     ]
    }
   ],
   "source": [
    "from sklearn.pipeline import Pipeline\n",
    "\n",
    "# Define a pipeline with TF-IDF vectorization and SVC\n",
    "pipeline = Pipeline([\n",
    "    ('vectorizer', TfidfVectorizer()),  # Use TfidfVectorizer for TF-IDF\n",
    "    ('classifier', SVC(kernel='linear'))  # Linear kernel for now\n",
    "])\n",
    "\n",
    "# Define the hyperparameter space for grid search\n",
    "param_grid = {\n",
    "    'classifier__C': [0.01, 0.1, 1, 10, 100]  # Range of C values for regularization\n",
    "}\n",
    "\n",
    "# Perform grid search with cross-validation\n",
    "grid_search = GridSearchCV(pipeline, param_grid, cv=5, scoring='f1_weighted', n_jobs=-1, verbose=2)\n",
    "grid_search.fit(X_train, y_train)\n",
    "\n",
    "# Get the best parameters and best model\n",
    "best_params = grid_search.best_params_\n",
    "svc_best_model = grid_search.best_estimator_\n",
    "\n",
    "# Evaluate the tuned model on the test set using the original X_test\n",
    "predicted_y = svc_best_model.predict(X_test)\n",
    "\n",
    "# Calculate accuracy, F1-score, and precision\n",
    "accuracy_tuned = accuracy_score(y_test, predicted_y)\n",
    "f1_score_tuned = f1_score(y_test, predicted_y, average='weighted')\n",
    "precision_tuned = precision_score(y_test, predicted_y, average='weighted')\n",
    "\n",
    "# Print the improved accuracy, F1-score, and precision\n",
    "print(\"Improved Accuracy:\", accuracy_tuned)\n",
    "print(\"Improved F1 Score (Weighted):\", f1_score_tuned)\n",
    "print(\"Improved Precision (Weighted):\", precision_tuned)\n",
    "\n",
    "# Generate classification report for the tuned model\n",
    "print(\"\\nClassification Report:\")\n",
    "print(classification_report(y_test, predicted_y))\n"
   ]
  },
  {
   "cell_type": "code",
   "execution_count": 110,
   "id": "3f8e9bbf-cb2e-4ea4-a4a1-a068fdcd3939",
   "metadata": {},
   "outputs": [
    {
     "name": "stdout",
     "output_type": "stream",
     "text": [
      "Review: serious delivery interesting price \n",
      "Prediction: Positive\n"
     ]
    }
   ],
   "source": [
    "# Randomly selecting comments from the data and asking them to the model\n",
    "\n",
    "random_comment = pd.Series(df[\"cleaned_review\"].sample().values)\n",
    "\n",
    "# Ensure you use the already fitted vectorizer to transform the new comment\n",
    "new_comment = tfidf_vectorizer.transform(random_comment)\n",
    "\n",
    "# Predict the sentiment using the trained SVC model\n",
    "pred = svc_model.predict(new_comment)\n",
    "\n",
    "print(f\"Review: {random_comment[0]} \\nPrediction: {pred[0]}\")\n"
   ]
  },
  {
   "cell_type": "markdown",
   "id": "3103803f-cfb8-43b7-b3a6-d92a0e9edb25",
   "metadata": {},
   "source": [
    "#### Conclusion\n",
    "- Support Vector Classifier (SVC) appears to be the best-performing model based on accuracy and weighted F1 scores across all sentiment classes, even after tuning. Its ability to effectively classify sentiment across all classes contributes to its superior performance.\n",
    "- Logistic Regression also performs well, particularly in classifying the positive sentiment, but it lags slightly behind SVC in overall precision\n",
    "\n",
    "Therefore, the Support Vector Classifier (SVC) can be considered the best-performing model among the all models for sentiment analysis based on the provided metrics and will be our saved model."
   ]
  },
  {
   "cell_type": "markdown",
   "id": "1a158597-e059-4c90-8d8d-076ebfb0df03",
   "metadata": {},
   "source": [
    "- Save the Best Model"
   ]
  },
  {
   "cell_type": "code",
   "execution_count": 113,
   "id": "9fa33e09-11b4-4dad-8a4e-c695cb01fe32",
   "metadata": {},
   "outputs": [
    {
     "name": "stdout",
     "output_type": "stream",
     "text": [
      "Model saved successfully.\n"
     ]
    }
   ],
   "source": [
    "# Save the model to a file\n",
    "joblib.dump(svc_best_model, 'svc_best_model.joblib')\n",
    "\n",
    "print(\"Model saved successfully.\")\n"
   ]
  },
  {
   "cell_type": "markdown",
   "id": "cbc0c9f4-4e22-4580-8535-cad95aae33dd",
   "metadata": {},
   "source": [
    "- Save the Vectorizer(TF-IDF)"
   ]
  },
  {
   "cell_type": "code",
   "execution_count": 115,
   "id": "a793e0c7-57cf-4347-abbe-f73992c7eebd",
   "metadata": {},
   "outputs": [
    {
     "name": "stdout",
     "output_type": "stream",
     "text": [
      "TF-IDF Vectorizer saved successfully!\n"
     ]
    }
   ],
   "source": [
    "# Save the fitted vectorizer using joblib\n",
    "joblib.dump(tfidf_vectorizer, 'tfidf_vectorizer.joblib')\n",
    "\n",
    "print(\"TF-IDF Vectorizer saved successfully!\")"
   ]
  },
  {
   "cell_type": "markdown",
   "id": "0f4dadee-b3f9-47dd-b082-aecf012e386e",
   "metadata": {},
   "source": [
    "### Model Deployment:\n",
    "- Set up pipelines for text cleaning, feature engineering, and inference.\n",
    "- Deploy the trained model:\n",
    "  - Locally using a Flask application.\n",
    "  - Via a cloud service (e.g., Streamlit)"
   ]
  },
  {
   "cell_type": "markdown",
   "id": "0d403fde-2ad5-4892-acdf-e2759c782209",
   "metadata": {},
   "source": [
    "##### Pipeline for Text Cleaning and Feature Engineering and Inference:\n",
    "- We will create a pipeline for text cleaning, feature engineering, and inference"
   ]
  },
  {
   "cell_type": "markdown",
   "id": "04538fcb-2c9a-4a11-9274-73c6f259f05c",
   "metadata": {},
   "source": [
    "- Define the Text Preprocessing Functions and Class"
   ]
  },
  {
   "cell_type": "code",
   "execution_count": 119,
   "id": "207849a3-7f71-4895-942b-c7931f5746d5",
   "metadata": {},
   "outputs": [],
   "source": [
    "\n",
    "from sklearn.base import BaseEstimator, TransformerMixin\n",
    "from sklearn.pipeline import Pipeline\n",
    "\n",
    "# Define text preprocessing functions\n",
    "def remove_html_tags(text):\n",
    "    clean = re.compile('<.*?>')\n",
    "    return re.sub(clean, '', text)\n",
    "\n",
    "def to_lowercase(text):\n",
    "    return text.lower()\n",
    "\n",
    "def remove_special_characters(text):\n",
    "    return re.sub(r'[^a-zA-Z\\s]', '', text)\n",
    "\n",
    "def remove_numbers(text):\n",
    "    return re.sub(r'\\d+', '', text)\n",
    "\n",
    "def remove_whitespace(text):\n",
    "    return ' '.join(text.split())\n",
    "\n",
    "def tokenize_text(text):\n",
    "    return word_tokenize(text)\n",
    "\n",
    "def remove_stopwords(tokens):\n",
    "    stop_words = set(stopwords.words('english'))\n",
    "    return [word for word in tokens if word not in stop_words]\n",
    "\n",
    "def lemmatize_words(tokens):\n",
    "    lemmatizer = WordNetLemmatizer()\n",
    "    return [lemmatizer.lemmatize(word) for word in tokens]\n",
    "\n",
    "def preprocess_text(text):\n",
    "    if not isinstance(text, str):\n",
    "        return \"\"\n",
    "    text = remove_html_tags(text)\n",
    "    text = to_lowercase(text)\n",
    "    text = remove_special_characters(text)\n",
    "    text = remove_numbers(text)\n",
    "    text = remove_whitespace(text)\n",
    "    tokens = tokenize_text(text)\n",
    "    tokens = remove_stopwords(tokens)\n",
    "    tokens = lemmatize_words(tokens)\n",
    "    return ' '.join(tokens)\n",
    "\n",
    "class TextPreprocessor(BaseEstimator, TransformerMixin):\n",
    "    def fit(self, X, y=None):\n",
    "        return self\n",
    "    \n",
    "    def transform(self, X, y=None):\n",
    "        return [preprocess_text(text) for text in X]\n"
   ]
  },
  {
   "cell_type": "code",
   "execution_count": 120,
   "id": "5d964d56-1f96-4fdb-9d0d-fc11198351e8",
   "metadata": {},
   "outputs": [
    {
     "data": {
      "text/plain": [
       "['text_preprocessor.joblib']"
      ]
     },
     "execution_count": 120,
     "metadata": {},
     "output_type": "execute_result"
    }
   ],
   "source": [
    "# Initialize the TextPreprocessor\n",
    "text_preprocessor = TextPreprocessor()\n",
    "\n",
    "# Save the TextPreprocessor\n",
    "joblib_file = \"text_preprocessor.joblib\"\n",
    "joblib.dump(text_preprocessor, joblib_file)"
   ]
  },
  {
   "cell_type": "markdown",
   "id": "dfd97745-fb9a-449c-bc79-c3c0a3748883",
   "metadata": {},
   "source": [
    "- Combine for Inference:"
   ]
  },
  {
   "cell_type": "code",
   "execution_count": 123,
   "id": "af5a3e92-3267-488e-ab62-972d00c3b506",
   "metadata": {},
   "outputs": [
    {
     "name": "stdout",
     "output_type": "stream",
     "text": [
      "Review: This product exceeded my expectations! \n",
      "Prediction: Positive\n",
      "Review: defective item refund buy anything expect work trust job especially electronics sell defective product ask return product pay return fee know returning item expensive item end defective item paid cant return customer service joke promise assist fix issue soon leave chat everything forgotten lost buying display aliexpress never buying anything aliexpress \n",
      "Prediction: Negative\n"
     ]
    }
   ],
   "source": [
    "# Function to make predictions\n",
    "def predict(texts):\n",
    "    # Load the pre-trained pipeline and preprocessor\n",
    "    loaded_pipeline = joblib.load('svc_best_model.joblib')\n",
    "    loaded_preprocessor = joblib.load('text_preprocessor.joblib')\n",
    "    \n",
    "    # Preprocess the input text\n",
    "    processed_text = loaded_preprocessor.transform(texts)\n",
    "    \n",
    "    # Predict the sentiment (numerical or text depending on your model output)\n",
    "    predictions = loaded_pipeline.predict(processed_text)\n",
    "    \n",
    "    return predictions\n",
    "\n",
    "# Example usage with a sample text\n",
    "example_text = ['This product exceeded my expectations!']\n",
    "prediction = predict(example_text)\n",
    "print(f\"Review: {example_text[0]} \\nPrediction: {prediction[0]}\")\n",
    "\n",
    "# Predict a random comment from a DataFrame (assuming you have a DataFrame 'df')\n",
    "random_comment = df['cleaned_review'].sample(1).values[0]\n",
    "random_prediction = predict([random_comment])\n",
    "print(f\"Review: {random_comment} \\nPrediction: {random_prediction[0]}\")\n"
   ]
  },
  {
   "cell_type": "code",
   "execution_count": 124,
   "id": "b23eba17-5d59-4db2-abd2-a8c72aa98f58",
   "metadata": {},
   "outputs": [
    {
     "name": "stdout",
     "output_type": "stream",
     "text": [
      "[('vectorizer', TfidfVectorizer()), ('classifier', SVC(kernel='linear'))]\n"
     ]
    }
   ],
   "source": [
    "print(pipeline.steps)\n"
   ]
  },
  {
   "cell_type": "markdown",
   "id": "6d40ccfc-bf22-44b8-ab60-ed4f113f8038",
   "metadata": {},
   "source": [
    "- #### Deploy the trained model:\n",
    "  - Locally using a Flask application.\n",
    "  - Via a cloud service (e.g., Streamlit)"
   ]
  },
  {
   "cell_type": "markdown",
   "id": "b76db1cc-5f39-4055-8e2e-f93442ac86e6",
   "metadata": {},
   "source": [
    "##### Cloud Deployment Using Streamlit Web Application."
   ]
  },
  {
   "cell_type": "code",
   "execution_count": 128,
   "id": "d35bb3bd-c361-4550-82e1-c14b7afc023c",
   "metadata": {},
   "outputs": [
    {
     "name": "stderr",
     "output_type": "stream",
     "text": [
      "[nltk_data] Downloading package stopwords to\n",
      "[nltk_data]     C:\\Users\\ooluw\\AppData\\Roaming\\nltk_data...\n",
      "[nltk_data]   Package stopwords is already up-to-date!\n",
      "[nltk_data] Downloading package punkt to\n",
      "[nltk_data]     C:\\Users\\ooluw\\AppData\\Roaming\\nltk_data...\n",
      "[nltk_data]   Package punkt is already up-to-date!\n",
      "[nltk_data] Downloading package wordnet to\n",
      "[nltk_data]     C:\\Users\\ooluw\\AppData\\Roaming\\nltk_data...\n",
      "[nltk_data]   Package wordnet is already up-to-date!\n",
      "2025-01-15 17:32:08.201 WARNING streamlit.runtime.scriptrunner_utils.script_run_context: Thread 'MainThread': missing ScriptRunContext! This warning can be ignored when running in bare mode.\n",
      "2025-01-15 17:32:09.302 \n",
      "  \u001b[33m\u001b[1mWarning:\u001b[0m to view this Streamlit app on a browser, run it with the following\n",
      "  command:\n",
      "\n",
      "    streamlit run C:\\Users\\ooluw\\anaconda\\Lib\\site-packages\\ipykernel_launcher.py [ARGUMENTS]\n",
      "2025-01-15 17:32:09.303 Thread 'MainThread': missing ScriptRunContext! This warning can be ignored when running in bare mode.\n",
      "2025-01-15 17:32:09.305 Thread 'MainThread': missing ScriptRunContext! This warning can be ignored when running in bare mode.\n",
      "2025-01-15 17:32:09.309 Thread 'MainThread': missing ScriptRunContext! This warning can be ignored when running in bare mode.\n",
      "2025-01-15 17:32:09.310 Thread 'MainThread': missing ScriptRunContext! This warning can be ignored when running in bare mode.\n",
      "2025-01-15 17:32:09.311 Thread 'MainThread': missing ScriptRunContext! This warning can be ignored when running in bare mode.\n",
      "2025-01-15 17:32:09.313 Thread 'MainThread': missing ScriptRunContext! This warning can be ignored when running in bare mode.\n",
      "2025-01-15 17:32:09.314 Thread 'MainThread': missing ScriptRunContext! This warning can be ignored when running in bare mode.\n",
      "2025-01-15 17:32:09.317 Thread 'MainThread': missing ScriptRunContext! This warning can be ignored when running in bare mode.\n",
      "2025-01-15 17:32:09.319 Session state does not function when running a script without `streamlit run`\n",
      "2025-01-15 17:32:09.323 Thread 'MainThread': missing ScriptRunContext! This warning can be ignored when running in bare mode.\n",
      "2025-01-15 17:32:09.326 Thread 'MainThread': missing ScriptRunContext! This warning can be ignored when running in bare mode.\n",
      "2025-01-15 17:32:09.331 Thread 'MainThread': missing ScriptRunContext! This warning can be ignored when running in bare mode.\n",
      "2025-01-15 17:32:09.332 Thread 'MainThread': missing ScriptRunContext! This warning can be ignored when running in bare mode.\n",
      "2025-01-15 17:32:09.333 Thread 'MainThread': missing ScriptRunContext! This warning can be ignored when running in bare mode.\n",
      "2025-01-15 17:32:09.336 Thread 'MainThread': missing ScriptRunContext! This warning can be ignored when running in bare mode.\n",
      "2025-01-15 17:32:09.337 Thread 'MainThread': missing ScriptRunContext! This warning can be ignored when running in bare mode.\n",
      "2025-01-15 17:32:09.339 Thread 'MainThread': missing ScriptRunContext! This warning can be ignored when running in bare mode.\n",
      "2025-01-15 17:32:09.343 Thread 'MainThread': missing ScriptRunContext! This warning can be ignored when running in bare mode.\n"
     ]
    },
    {
     "data": {
      "text/plain": [
       "DeltaGenerator()"
      ]
     },
     "execution_count": 128,
     "metadata": {},
     "output_type": "execute_result"
    }
   ],
   "source": [
    "import streamlit as st\n",
    "import joblib\n",
    "from preprocess import preprocess_text  # Import the preprocessing function\n",
    "\n",
    "# Load the model and TF-IDF vectorizer\n",
    "model = joblib.load('svc_best_model.joblib')\n",
    "tfidf_vectorizer = joblib.load('tfidf_vectorizer.joblib')\n",
    "\n",
    "# Custom header\n",
    "st.markdown(\"\"\"\n",
    "    <style>\n",
    "    .header {\n",
    "        font-size: 30px;\n",
    "        font-weight: bold;\n",
    "        color: #8d0801;\n",
    "        text-align: center;\n",
    "        margin-bottom: 10px;\n",
    "        background-image: url('C:/Users/ooluw/Desktop/10nalytics/internship_project/internship_project/images/bi.jpg');\n",
    "        background-size: cover;\n",
    "        padding: 50px;\n",
    "    }\n",
    "    </style>\n",
    "    <div class=\"header\">\n",
    "        Sentiment Analysis on Product Reviews\n",
    "    </div>\n",
    "    \"\"\", unsafe_allow_html=True)\n",
    "\n",
    "# Add a logo\n",
    "st.image(\"C:/Users/ooluw/Desktop/10nalytics/internship_project/internship_project/images/sa.jpg\", width=700)\n",
    "\n",
    "review = st.text_area(\"Enter a product review:\")\n",
    "\n",
    "if st.button(\"Predict Sentiment\"):\n",
    "    if review:\n",
    "        with st.spinner('Processing...'):\n",
    "            # Preprocess the input review\n",
    "            preprocessed_review = preprocess_text(review)\n",
    "            preprocessed_review_str = ' '.join(preprocessed_review)\n",
    "            \n",
    "            # Vectorize the preprocessed review\n",
    "            vectorized_review = tfidf_vectorizer.transform([preprocessed_review_str])\n",
    "            \n",
    "            # Predict the sentiment\n",
    "            prediction = model.predict(vectorized_review)\n",
    "            \n",
    "            # Display the result\n",
    "            if prediction == 1:\n",
    "                st.success(\"The review is positive!\")\n",
    "            else:\n",
    "                st.error(\"The review is negative!\")\n",
    "    else:\n",
    "        st.error(\"Please enter a review.\")\n",
    "\n",
    "# Custom footer with social media links\n",
    "st.markdown(\"\"\"\n",
    "    <style>\n",
    "    .footer {\n",
    "        position: fixed;\n",
    "        left: 0;\n",
    "        bottom: 0;\n",
    "        width: 100%;\n",
    "        background-color: #4CAF50;\n",
    "        color: white;\n",
    "        text-align: center;\n",
    "        padding: 10px;\n",
    "    }\n",
    "    .footer a {\n",
    "        color: white;\n",
    "        text-decoration: none;\n",
    "        margin: 0 10px;\n",
    "    }\n",
    "    </style>\n",
    "    <div class=\"footer\">\n",
    "        Developed by Team Brainiac - ©2024\n",
    "        <br>\n",
    "        <a href=\"https://www.linkedin.com/in/oluwakemi-sorinmade/\" target=\"_blank\">LinkedIn</a>\n",
    "        <a href=\"https://github.com/Olukem\" target=\"_blank\">GitHub</a>\n",
    "    </div>\n",
    "    \"\"\", unsafe_allow_html=True)\n"
   ]
  }
 ],
 "metadata": {
  "kernelspec": {
   "display_name": "Python 3 (ipykernel)",
   "language": "python",
   "name": "python3"
  },
  "language_info": {
   "codemirror_mode": {
    "name": "ipython",
    "version": 3
   },
   "file_extension": ".py",
   "mimetype": "text/x-python",
   "name": "python",
   "nbconvert_exporter": "python",
   "pygments_lexer": "ipython3",
   "version": "3.12.4"
  }
 },
 "nbformat": 4,
 "nbformat_minor": 5
}
